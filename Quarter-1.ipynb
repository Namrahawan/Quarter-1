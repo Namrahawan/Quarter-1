{
 "cells": [
  {
   "cell_type": "markdown",
   "metadata": {
    "id": "Qt6m3BTUZ_V4"
   },
   "source": [
    "CAE (\"Certified Agentic AI and Robotics Engineer\")"
   ]
  },
  {
   "cell_type": "markdown",
   "metadata": {
    "id": "kkN8mlDeirbv"
   },
   "source": [
    "04_natural_language_programming....02_ai_python_for_beginners...(course1_basics)"
   ]
  },
  {
   "cell_type": "code",
   "execution_count": null,
   "metadata": {
    "colab": {
     "base_uri": "https://localhost:8080/"
    },
    "executionInfo": {
     "elapsed": 594,
     "status": "ok",
     "timestamp": 1734879397141,
     "user": {
      "displayName": "farzeen arshad",
      "userId": "08719252151674857821"
     },
     "user_tz": -300
    },
    "id": "iO0vzrPfm6Il",
    "outputId": "35c1cff7-bd74-4dc0-d770-e10376c0f303"
   },
   "outputs": [
    {
     "name": "stdout",
     "output_type": "stream",
     "text": [
      "675\n",
      "1.628894626777442\n",
      "1.8288000000000002\n",
      "Namrah\n"
     ]
    }
   ],
   "source": [
    "# way to check type .The type() function\n",
    "type(\"Andrew\") #str\n",
    "type(100) #int\n",
    "type(2.99) #float\n",
    "\n",
    "# Python as a calculator!\n",
    "print(28+35+43+50+65+70+68+66+75+80+95)\n",
    "\n",
    "# How do I compute 1.05 to the power of 10?  (Exponentiation)\n",
    "print(1.05 ** 10)\n",
    "\n",
    "# Write code to convert 6 feet to meters (1 foot = 0.3048 meters)\n",
    "print(6 * 0.3048)\n",
    "\n",
    "#Simple variable declaration\n",
    "fav_celeb: int = \"Namrah\"\n",
    "print(fav_celeb)    #  datatypes = int, str, float, list, bool, dict, set"
   ]
  },
  {
   "cell_type": "code",
   "execution_count": null,
   "metadata": {
    "colab": {
     "base_uri": "https://localhost:8080/"
    },
    "executionInfo": {
     "elapsed": 401,
     "status": "ok",
     "timestamp": 1734875928861,
     "user": {
      "displayName": "farzeen arshad",
      "userId": "08719252151674857821"
     },
     "user_tz": -300
    },
    "id": "_y91JeZonR7d",
    "outputId": "6ebb941e-fdea-49ef-e36b-2918ad3d0937"
   },
   "outputs": [
    {
     "name": "stdout",
     "output_type": "stream",
     "text": [
      "The temperature 75F in degrees celsius is 23.88888888888889C\n"
     ]
    }
   ],
   "source": [
    "# print(((75 - 32) * 5 / 9)) step 1 way\n",
    "# print(\"The temperature 75F in degrees Celsius is ((75 - 32) * 5 / 9)C\") step 2 way\n",
    "# Mixing strings with computations or data: (f-Strings) [compact way to do step 1 and 2]\n",
    "print(f\"The temperature 75F in degrees celsius is {(75 - 32) * 5 / 9}C\")"
   ]
  },
  {
   "cell_type": "code",
   "execution_count": null,
   "metadata": {
    "colab": {
     "base_uri": "https://localhost:8080/"
    },
    "executionInfo": {
     "elapsed": 407,
     "status": "ok",
     "timestamp": 1734879216292,
     "user": {
      "displayName": "farzeen arshad",
      "userId": "08719252151674857821"
     },
     "user_tz": -300
    },
    "id": "89cdqS832o7r",
    "outputId": "1d762ada-a97e-483c-9162-2ec339ccd2ec"
   },
   "outputs": [
    {
     "name": "stdout",
     "output_type": "stream",
     "text": [
      "My age is 4\n"
     ]
    }
   ],
   "source": [
    "num1 = 4\n",
    "print(f\"My age is {num1:.0f}\")\n",
    "# .0f means format the number as a floating-point number\n",
    "# with zero digits after the decimal point."
   ]
  },
  {
   "cell_type": "code",
   "execution_count": null,
   "metadata": {
    "colab": {
     "base_uri": "https://localhost:8080/"
    },
    "executionInfo": {
     "elapsed": 413,
     "status": "ok",
     "timestamp": 1734880429379,
     "user": {
      "displayName": "farzeen arshad",
      "userId": "08719252151674857821"
     },
     "user_tz": -300
    },
    "id": "TLOBWDkC3D5D",
    "outputId": "3ca59470-0127-454d-eb9a-fd1c51cdab7f"
   },
   "outputs": [
    {
     "name": "stdout",
     "output_type": "stream",
     "text": [
      "28\n",
      "<class 'int'>\n",
      "['as_integer_ratio', 'bit_count', 'bit_length', 'conjugate', 'denominator', 'from_bytes', 'imag', 'numerator', 'real', 'to_bytes']\n"
     ]
    }
   ],
   "source": [
    "age: int = 28\n",
    "print(age)\n",
    "print(type(age))\n",
    "\n",
    "# age is an obj belonging to int class\n",
    "# Objects have methods & attributes\n",
    "# methods = actions (i.e: coding)\n",
    "# attributes = properties (i.e: name)\n",
    "\n",
    "# see all methods and attributes\n",
    "print([i for i in dir(age) if '__' not in i])"
   ]
  },
  {
   "cell_type": "code",
   "execution_count": null,
   "metadata": {
    "id": "nBpEyF8oaX9J"
   },
   "outputs": [],
   "source": [
    "age1: int = 2\n",
    "print(age1)\n",
    "\n",
    "age1 = 5\n",
    "print(age1)\n",
    "\n",
    "age1 = 10\n",
    "print(age1)\n",
    "\n",
    "print(age1)"
   ]
  },
  {
   "cell_type": "code",
   "execution_count": 4,
   "metadata": {
    "colab": {
     "base_uri": "https://localhost:8080/"
    },
    "executionInfo": {
     "elapsed": 424,
     "status": "ok",
     "timestamp": 1735222519151,
     "user": {
      "displayName": "farzeen arshad",
      "userId": "08719252151674857821"
     },
     "user_tz": -300
    },
    "id": "pxVJaETab1Mp",
    "outputId": "03899898-bf44-4d2b-a3e5-6da1d211147a"
   },
   "outputs": [
    {
     "name": "stdout",
     "output_type": "stream",
     "text": [
      "Total present members are: 101\n",
      "Total rabri in gm: 25250g\n",
      "Total rabri in Kg: 25kg\n"
     ]
    }
   ],
   "source": [
    "faculty = 12\n",
    "admin = 4\n",
    "students = 100\n",
    "absent = 15\n",
    "per_person_rabri = 250\n",
    "\n",
    "total_members = faculty + admin + students\n",
    "total_present_members = total_members - absent\n",
    "print(f\"Total present members are: {total_present_members}\") # 101\n",
    "total_rabri_gm = total_present_members * per_person_rabri\n",
    "print(f\"Total rabri in gm: {total_rabri_gm}g\") # 25250\n",
    "print(f\"Total rabri in Kg: {total_rabri_gm // 1000}kg\")\n",
    "\n"
   ]
  },
  {
   "cell_type": "code",
   "execution_count": 11,
   "metadata": {
    "colab": {
     "base_uri": "https://localhost:8080/"
    },
    "executionInfo": {
     "elapsed": 418,
     "status": "ok",
     "timestamp": 1735223542883,
     "user": {
      "displayName": "farzeen arshad",
      "userId": "08719252151674857821"
     },
     "user_tz": -300
    },
    "id": "lEbyUlPATs02",
    "outputId": "16058cd7-5013-4279-aef1-87c173b24fb3"
   },
   "outputs": [
    {
     "name": "stdout",
     "output_type": "stream",
     "text": [
      "Hello, Namrah\n",
      "My fav number plus 10 is: 15\n",
      "I have vistied 2 countries yet\n",
      "and will visit 3 countries soon\n",
      "and will done with 5 in total\n"
     ]
    }
   ],
   "source": [
    "# Create a variable called 'my_name' and assign it the value of your name as a string.\n",
    "# Then print out a greeting using the variable, like \"Hello, Andrew!\"\n",
    "my_name = \"Namrah\"\n",
    "print(f\"Hello, {my_name}\")\n",
    "# Enter your favorite number below and store it in a variable called 'fav_num'.\n",
    "# Print out a message telling you what your favorite number plus 10 is.\n",
    "fav_num = 5\n",
    "print(f\"My fav number plus 10 is: {fav_num+10}\")\n",
    "# Create two variables, 'countries_visited' and 'countries_to_visit' and assign them the number of\n",
    "# countries you've been to and the number of countries you hope to visit. Then complete the print statement.\n",
    "countries_visited = 2\n",
    "countries_to_visit = 3\n",
    "print(f\"\"\"I have vistied {countries_visited} countries yet\n",
    "and will visit {countries_to_visit} countries soon\n",
    "and will done with {countries_to_visit+countries_visited} in total\"\"\")"
   ]
  },
  {
   "cell_type": "markdown",
   "metadata": {},
   "source": [
    "1.Download helper_function.py\n",
    "...\n",
    "!curl -o helper_functions.py https://raw.githubusercontent.com/panaversity/learn-cloud-native-modern-ai-python/main/04_natural_language_programming/02_ai_python_for_beginners/course1_basics/Lesson_9/helper_functions.py"
   ]
  },
  {
   "cell_type": "markdown",
   "metadata": {},
   "source": [
    "2. set Secrets Variable for Gemini in Collab\n",
    "GEMINI_API_KEY\n"
   ]
  },
  {
   "cell_type": "code",
   "execution_count": null,
   "metadata": {},
   "outputs": [],
   "source": [
    "# Building LLM prompts with variables\n",
    "# Make variables for your favorite game, movie, and food.\n",
    "# Then use print_llm_response to ask the LLM to recommend you\n",
    "# a new song to listen to based on your likes.\n",
    "!curl -o helper_functions.py https://raw.githubusercontent.com/panaversity/learn-cloud-native-modern-ai-python/main/04_natural_language_programming/02_ai_python_for_beginners/course1_basics/Lesson_9/helper_functions.py\n",
    "from helper_functions import print_llm_response\n",
    "from google.colab import userdata\n",
    "gemini_api_key = userdata.get('GEMINI_API_KEY')\n",
    "fav_game = \"Table tennis\"\n",
    "fav_movie = \"dont breathe\"\n",
    "fav_food = \"Chicken tikka\"\n",
    "prompt = (f\"\"\"recommend me a song based on my likes in {fav_game}\n",
    "{fav_movie} and {fav_food}\n",
    "\"\"\")\n",
    "print_llm_response(prompt)"
   ]
  },
  {
   "cell_type": "markdown",
   "metadata": {},
   "source": [
    "The get_llm_response() function is very similar to print_llm_response() (which you used before); the main difference is that you get a string as a result instead of just displaying the LLM response. This way, you can store the LLM response in the variable response.bold text"
   ]
  },
  {
   "cell_type": "code",
   "execution_count": null,
   "metadata": {},
   "outputs": [],
   "source": [
    "from helper_functions import get_llm_response\n",
    "name = \"Tommy\"\n",
    "potatoes = 4.75\n",
    "prompt = f\"\"\"write a couplet about my friend {name} who has about{round(potatoes)} potatoes also mention count of {round(potatoes)}potatoes\"\"\"\n",
    "response = get_llm_response(prompt)\n",
    "response = get_llm_response(prompt)\n",
    "print(response)"
   ]
  },
  {
   "cell_type": "code",
   "execution_count": null,
   "metadata": {},
   "outputs": [],
   "source": [
    "# Enter one of your favorite numbers. Multiply the result by 10 and save it to a variable called 'lucky_number'.\n",
    "# Print a message saying \"Your lucky number is [lucky_number]!\"\n",
    "\n",
    "lucky_number = 7*10\n",
    "print(f\"Your lucky number is {lucky_number}!\")"
   ]
  },
  {
   "cell_type": "code",
   "execution_count": null,
   "metadata": {},
   "outputs": [],
   "source": [
    "# Use print_llm_response() to print a poem with the specified number of lines. Use the\n",
    "# prompt variable to save your prompt before calling print_llm_response()\n",
    "from helper_functions import print_llm_response\n",
    "number_of_lines = 4\n",
    "prompt = f\"\"\"write a poem with the specified number of lines {number_of_lines}\"\"\"\n",
    "print_llm_response(prompt)"
   ]
  },
  {
   "cell_type": "code",
   "execution_count": null,
   "metadata": {},
   "outputs": [],
   "source": [
    "# Repeat exercise 2(above code cell), this time using the function get_llm_response(), then print() to print it. This function asks\n",
    "# the LLM for a response, just like print_llm_response, but does not print it. You'll need to save the response to\n",
    "# a variable, then print it out separately.\n",
    "from helper_functions import get_llm_response\n",
    "number_of_lines = 4\n",
    "prompt = f\"\"\"write a poem with the specified number of lines {number_of_lines}\"\"\"\n",
    "response = get_llm_response(prompt)\n",
    "print(response)"
   ]
  },
  {
   "cell_type": "markdown",
   "metadata": {},
   "source": [
    "course2_automating_tasks"
   ]
  },
  {
   "cell_type": "code",
   "execution_count": null,
   "metadata": {},
   "outputs": [],
   "source": [
    "# Lesson 1 - Completing a task list with AI\n",
    "from helper_functions import print_llm_response, get_llm_response\n",
    "friends_list = [\"Tommy\", \"Isabel\", \"Daniel\"]\n",
    "prompt = f\"\"\"\n",
    "Write a set of four line birthday poems for my friends {friends_list}.\n",
    "The poems should be insipred by the first letter of each friend's name.\n",
    "\"\"\"\n",
    "print_llm_response(prompt)"
   ]
  },
  {
   "cell_type": "code",
   "execution_count": null,
   "metadata": {},
   "outputs": [],
   "source": [
    "#Accessing individual elements of a list\n",
    "friends_list = [\"Tommy\", \"Isabel\", \"Daniel\"]\n",
    "friend_one = friends_list[0]\n",
    "print(friend_one)\n",
    "\n",
    "# add single element to list\n",
    "friends_list.append(\"Otto\")\n",
    "print(friends_list)\n",
    "\n",
    "#using remove (Deleting elements)\n",
    "friends_list.remove(\"Tommy\")\n",
    "print(friends_list)"
   ]
  },
  {
   "cell_type": "code",
   "execution_count": null,
   "metadata": {},
   "outputs": [],
   "source": [
    "#list of tasks in priority order. Multi-line lists are allowed in python!\n",
    "list_of_tasks = [\n",
    "    \"Compose a brief email to my boss explaining that I will be late for tomorrow's meeting.\",\n",
    "    \"Write a birthday poem for Otto, celebrating his 28th birthday.\",\n",
    "    \"Write a 300-word review of the movie 'The Arrival'.\"\n",
    "]\n",
    "task = list_of_tasks[0]\n",
    "print_llm_response(task)"
   ]
  },
  {
   "cell_type": "code",
   "execution_count": null,
   "metadata": {},
   "outputs": [],
   "source": [
    "# Create a list with the titles of five of your favorite movies\n",
    "movie_list = [\"a\",2,3,4,5]  # e.g\n",
    "print(movie_list)\n",
    "\n",
    "# Display the fourth element of the following list using print()\n",
    "print(movie_list[3])\n",
    "\n",
    "# Add one name to friends_list using append\n",
    "friends_list = [\"Tommy\", \"Isabel\", \"Daniel\", \"Otto\"]\n",
    "friends_list.append(\"Namrah\")\n",
    "print(friends_list)\n",
    "friends_list.remove(\"Namrah\")\n",
    "print(friends_list)"
   ]
  },
  {
   "cell_type": "code",
   "execution_count": null,
   "metadata": {},
   "outputs": [],
   "source": [
    "# for loop (Iterating through task lists with AI)\n",
    "from helper_functions import print_llm_response, get_llm_response\n",
    "list_of_tasks = [\n",
    "    \"Compose a brief 1 line email to my boss explaining that I will be late for tomorrow's meeting.\",\n",
    "    \"Write 2 lines birthday poem for Otto, celebrating his 28th birthday.\",\n",
    "    \"Write a 10-word review of the movie 'The Arrival'.\"\n",
    "]\n",
    "for task in list_of_tasks:  #do not forget to use colon : sign\n",
    "  print_llm_response(task)"
   ]
  },
  {
   "cell_type": "code",
   "execution_count": null,
   "metadata": {},
   "outputs": [],
   "source": [
    "ice_cream_flavors = [\n",
    "    \"Vanilla\",\n",
    "    \"Chocolate\",\n",
    "    \"Strawberry\",\n",
    "    \"Mint Chocolate Chip\"\n",
    "]\n",
    "for flavor in ice_cream_flavors:\n",
    "  prompt = f\"\"\"For the ice cream flavor listed,\n",
    "    provide a captivating 2 lines description that could be used for promotional purposes.\n",
    "    Flavor: {flavor}\n",
    "    \"\"\"\n",
    "print_llm_response(prompt)"
   ]
  },
  {
   "cell_type": "code",
   "execution_count": null,
   "metadata": {},
   "outputs": [],
   "source": [
    "ice_cream_flavors = [\n",
    "    \"Vanilla\",\n",
    "    \"Chocolate\",\n",
    "    \"Strawberry\",\n",
    "    \"Mint Chocolate Chip\"\n",
    "]\n",
    "promotional_descriptions = []\n",
    "\n",
    "for flavor in ice_cream_flavors:\n",
    "    prompt = f\"\"\"For the ice cream flavor listed below,\n",
    "    provide a captivating 1 line description that could be used for promotional purposes.\n",
    "    Flavor: {flavor}\n",
    "    \"\"\"\n",
    "    # Use the helper function to get the response\n",
    "    description = print_llm_response(prompt)  # Assuming print_llm_response returns a value\n",
    "    promotional_descriptions.append(description)\n",
    "    print(description)"
   ]
  },
  {
   "cell_type": "code",
   "execution_count": null,
   "metadata": {},
   "outputs": [],
   "source": [
    "# It should print the flavors in\n",
    "# ice_cream_flavors one by one.\n",
    "ice_cream_flavors = [\"Chocolate\", \"Mint Chocolate Chip\"]\n",
    "for flavor in ice_cream_flavors:\n",
    "    print(flavor)\n"
   ]
  },
  {
   "cell_type": "markdown",
   "metadata": {},
   "source": [
    "The main difference with list, is that dictionaries assign a key to each values instead of an index. Let's start by importing some functions.\n",
    "Lesson 3 - Prioritizing tasks with dictionaries and AI"
   ]
  },
  {
   "cell_type": "code",
   "execution_count": null,
   "metadata": {},
   "outputs": [],
   "source": [
    "#from helper_functions import print_llm_response, get_llm_response\n",
    "# Dictiaoany\n",
    "ice_cream_flavors = {\n",
    "    \"Mint Chocolate Chip\": \"Refreshing mint ice cream studded with decadent chocolate chips.\",\n",
    "    \"Cookie Dough\": \"Vanilla ice cream loaded with chunks of chocolate chip cookie dough.\",\n",
    "    \"Salted Caramel\": \"Sweet and salty with a smooth caramel swirl and a hint of sea salt.\",\n",
    "}\n",
    "# print(ice_cream_flavors.keys())  #just keys\n",
    "# print(ice_cream_flavors.values())  #just values\n",
    "# print(ice_cream_flavors.items())  #both kesy values\n",
    "\n",
    "# Accessing elements in dict not by index but with keys\n",
    "# print(ice_cream_flavors[\"Cookie Dough\"]) \n",
    "\n",
    "# Adding and updating elements in a dictionary\n",
    "ice_cream_flavors[\"Rocky Road\"] = \"Chocolate ice cream mixd witother ngredients.\"\n",
    "print(ice_cream_flavors)\n",
    "\n",
    "# Removing elements form dict\n",
    "del ice_cream_flavors[\"Cookie Dough\"]\n",
    "print(ice_cream_flavors)"
   ]
  },
  {
   "cell_type": "code",
   "execution_count": null,
   "metadata": {},
   "outputs": [],
   "source": [
    "isabel_facts = {\n",
    "    \"age\" : 28,\n",
    "    \"fav_colour\" : \"red\",\n",
    "}\n",
    "print(isabel_facts)\n",
    "\n",
    "# Now store information within that dictionary using lists\n",
    "isabel_facts[\"cat_names\"] = [\"Charlie\", \"Smokey\", \"Tabitha\"]\n",
    "print(isabel_facts)"
   ]
  },
  {
   "cell_type": "markdown",
   "metadata": {},
   "source": [
    "Using dictionaries to complete high priority tasks using AI"
   ]
  },
  {
   "cell_type": "code",
   "execution_count": null,
   "metadata": {},
   "outputs": [],
   "source": [
    "list_of_tasks = [\n",
    "    \"Compose a brief email to my boss explaining that I will be late for tomorrow's meeting.\",\n",
    "    \"Write a birthday poem for Otto, celebrating his 28th birthday.\",\n",
    "    \"Write a 300-word review of the movie 'The Arrival'.\",\n",
    "    \"Draft a thank-you note for my neighbor Dapinder who helped water my plants while I was on vacation.\",\n",
    "    \"Create an outline for a presentation on the benefits of remote work.\"\n",
    "]\n",
    "# instead of that unorganized large list, divide tasks by priority\n",
    "high_priority_tasks = [\n",
    "     \"Compose a brief email to my boss explaining that I will be late for tomorrow's meeting.\",\n",
    "     \"Create an outline for a presentation on the benefits of remote work.\"\n",
    "]\n",
    "medium_priority_tasks = [\n",
    "     \"Write a birthday poem for Otto, celebrating his 28th birthday.\",\n",
    "    \"Draft a thank-you note for my neighbor Dapinder who helped water my plants while I was on vacation.\"\n",
    "]\n",
    "low_priority_tasks = [\n",
    "    \"Write a 300-word review of the movie 'The Arrival'.\"\n",
    "]\n",
    "# Create dictionary with all tasks . Dictionaries can contain lists!\n",
    "prioritized_tasks = {\n",
    "    \"high\" : high_priority_tasks,\n",
    "    \"medium\" : medium_priority_tasks,\n",
    "    \"low\" : low_priority_tasks\n",
    "}\n",
    "print(prioritized_tasks)"
   ]
  },
  {
   "cell_type": "code",
   "execution_count": null,
   "metadata": {},
   "outputs": [],
   "source": [
    "#complete high priority tasks \n",
    "for task in prioritized_tasks[\"high_priority\"]:\n",
    "    print_llm_response(task)"
   ]
  },
  {
   "cell_type": "code",
   "execution_count": null,
   "metadata": {},
   "outputs": [],
   "source": [
    "from helper_functions import get_llm_response\n",
    "\n",
    "# Dictionary to store ice cream flavor descriptions\n",
    "ice_cream_flavors = {}\n",
    "\n",
    "# Define the flavor and prompt\n",
    "flavor = \"Rocky Road\"\n",
    "prompt = f\"Provide a brief description for the {flavor} ice cream flavor\"\n",
    "\n",
    "# Get the description and update the dictionary\n",
    "ice_cream_flavors[flavor] = get_llm_response(prompt)\n",
    "\n",
    "# Print the updated dictionary\n",
    "print(ice_cream_flavors)"
   ]
  },
  {
   "cell_type": "markdown",
   "metadata": {},
   "source": [
    "!curl -o helper_functions.py https://raw.githubusercontent.com/panaversity/learn-cloud-native-modern-ai-python/main/04_natural_language_programming/02_ai_python_for_beginners/course1_basics/Lesson_9/helper_functions.py\n",
    "\n"
   ]
  },
  {
   "cell_type": "code",
   "execution_count": null,
   "metadata": {},
   "outputs": [],
   "source": [
    "from helper_functions import print_llm_response , get_llm_response\n",
    "food_preferences_tommy = {\n",
    "        \"dietary_restrictions\": \"vegetarian\",\n",
    "        \"favorite_ingredients\": [\"tofu\", \"olives\"],\n",
    "        \"experience_level\": \"intermediate\",\n",
    "        \"maximum_spice_level\": 6\n",
    "}\n",
    "prompt = f\"\"\"make one paragraph short recipe that include following ingridients:\n",
    "{food_preferences_tommy[\"favorite_ingredients\"]}.\n",
    "The recipe should include the dietry restriction\n",
    "{food_preferences_tommy[\"dietary_restrictions\"]}\n",
    "The difficulty of recipe should be\n",
    "{food_preferences_tommy[\"experience_level\"]}\n",
    "the maximum spice level should be\n",
    "{food_preferences_tommy[\"maximum_spice_level\"]}\n",
    "\"\"\"\n",
    "print_llm_response(prompt)"
   ]
  },
  {
   "cell_type": "markdown",
   "metadata": {},
   "source": [
    "Logical Operators"
   ]
  },
  {
   "cell_type": "code",
   "execution_count": null,
   "metadata": {},
   "outputs": [],
   "source": [
    "is_tommy_my_friend = True\n",
    "is_isabel_my_friend = True\n",
    "# Compact way is \n",
    "print(is_tommy_my_friend and is_isabel_my_friend)\n",
    "# If you want to check whether at least one of them is your friend, you can use the or operator:"
   ]
  },
  {
   "cell_type": "markdown",
   "metadata": {},
   "source": [
    "Performing tasks depending on their time to completion"
   ]
  },
  {
   "cell_type": "code",
   "execution_count": null,
   "metadata": {},
   "outputs": [],
   "source": [
    "task_list = [\n",
    "    {\n",
    "        \"description\": \"Compose a brief email to my boss explaining that I will be late for next week's meeting.\",\n",
    "        \"time_to_complete\": 3\n",
    "    },\n",
    "    {\n",
    "        \"description\": \"Create an outline for a presentation on the benefits of remote work.\",\n",
    "        \"time_to_complete\": 60\n",
    "    },\n",
    "    {\n",
    "        \"description\": \"Write a 300-word review of the movie 'The Arrival'.\",\n",
    "        \"time_to_complete\": 30\n",
    "    },\n",
    "    {\n",
    "        \"description\": \"Create a shopping list for tofu and olive stir fry.\",\n",
    "        \"time_to_complete\": 5\n",
    "    }\n",
    "]\n",
    "from helper_functions import print_llm_response\n",
    "\n",
    "task = task_list[0]\n",
    "if task[\"time_to_complete\"] <= 5:\n",
    "    task_to_do = task[\"description\"]\n",
    "    print_llm_response(task_to_do)\n",
    "\n",
    "task = task_list[1]\n",
    "if task[\"time_to_complete\"] <= 5:\n",
    "  task_to_do = task[\"description\"]\n",
    "  print_llm_response(task_to_do)\n",
    "\n",
    "task = task_list[2]\n",
    "if task[\"time_to_complete\"] <= 5:\n",
    "  task_to_do = task[\"description\"]\n",
    "  print_llm_response(task_to_do)\n",
    "\n",
    "task = task_list[3]\n",
    "if task[\"time_to_complete\"] <= 5:\n",
    "  task_to_do = task[\"description\"]\n",
    "  print_llm_response(task_to_do)"
   ]
  },
  {
   "cell_type": "code",
   "execution_count": null,
   "metadata": {},
   "outputs": [],
   "source": [
    "# Compact way to do above code using for loop to iterate over each task\n",
    "for task in task_list:\n",
    "    if task[\"time_to_complete\"] <= 5:\n",
    "        task_to_do = task[\"description\"]\n",
    "        print_llm_response(task_to_do)\n",
    "    else:\n",
    "        print(f\"To complete later: {task['time_to_complete']} time to complete.\")  "
   ]
  },
  {
   "cell_type": "code",
   "execution_count": null,
   "metadata": {},
   "outputs": [],
   "source": [
    "# Saving tasks for later using lists\n",
    "task_for_later = []\n",
    "for task in task_list:\n",
    "    if task[\"time_to_complete\"] <= 5:\n",
    "      task_to_do = task[\"description\"]\n",
    "      print_llm_response(task_to_do)\n",
    "    else:\n",
    "      task_for_later.append(task)\n",
    "print(task_for_later)"
   ]
  },
  {
   "cell_type": "code",
   "execution_count": null,
   "metadata": {},
   "outputs": [],
   "source": [
    "# Practice of if elif and else\n",
    "my_age = 26\n",
    "his_age = 32\n",
    "   \n",
    "# if my_age < his_age:\n",
    "#   print(\"I am younger than him\")\n",
    "# elif my_age == his_age:\n",
    "#   print(\"we are same age\")\n",
    "# else:\n",
    "#   print(\"i am older than him\")\n",
    "\n",
    "# below is conditional expression (also known as a ternary operator in Python). \n",
    "# It allows you to write an if-else statement in a single line for simple decisions.\n",
    "print(\"True , indeed\") if my_age < his_age else print(\"false\")"
   ]
  },
  {
   "cell_type": "markdown",
   "metadata": {},
   "source": [
    "Functions in Python"
   ]
  },
  {
   "cell_type": "code",
   "execution_count": null,
   "metadata": {},
   "outputs": [],
   "source": [
    "# Parameters\n",
    "def greet(name: str):\n",
    "  hello = f\"Hello {name}\"\n",
    "  return hello\n",
    "# Pass Arguments\n",
    "val1 = greet(\"Sir Ameen\")\n",
    "print(val1)\n",
    "print(greet(\"Sir Qasim\"))\n",
    "print(greet(\"Sir Zia\"))"
   ]
  },
  {
   "cell_type": "code",
   "execution_count": null,
   "metadata": {},
   "outputs": [],
   "source": [
    "def add(x:int,y:int) -> int:\n",
    "    return x+y\n",
    "print(add(2,3))\n",
    "\n",
    "def subtract(x:int , y:int) ->int:\n",
    "  return x-y\n",
    "print(subtract(6,2))"
   ]
  },
  {
   "cell_type": "markdown",
   "metadata": {},
   "source": [
    "Instead of manually repeating the key-value pairs for each dictionary, you can use a loop or a function to create the dictionaries dynamically."
   ]
  },
  {
   "cell_type": "code",
   "execution_count": null,
   "metadata": {},
   "outputs": [],
   "source": [
    "# List of user data (name, age, rollnum)  user_data is a list of 3 tuples \n",
    "user_data = [\n",
    "    ('Ali', 20, 101),\n",
    "    ('Sara', 22, 102),\n",
    "    ('Ahmed', 21, 103)\n",
    "]\n",
    "\n",
    "# Creating a list of dictionaries using a loop\n",
    "users = []\n",
    "for data in user_data:\n",
    "    user = {'name': data[0], 'age': data[1], 'rollnum': data[2]}\n",
    "    users.append(user)\n",
    "\n",
    "# Printing all dictionaries\n",
    "for user in users:\n",
    "    print(user)"
   ]
  },
  {
   "cell_type": "markdown",
   "metadata": {},
   "source": [
    "Example using a function (for cleaner code):"
   ]
  },
  {
   "cell_type": "code",
   "execution_count": null,
   "metadata": {},
   "outputs": [],
   "source": [
    "def create_user(name, age, rollnum):\n",
    "    return {'name': name, 'age': age, 'rollnum': rollnum}\n",
    "\n",
    "# List of user data (name, age, rollnum)\n",
    "user_data = [\n",
    "    ('Ali', 20, 101),\n",
    "    ('Sara', 22, 102),\n",
    "    ('Ahmed', 21, 103)\n",
    "]\n",
    "\n",
    "# Using a list comprehension to create the dictionaries\n",
    "users = [create_user(*data) for data in user_data]\n",
    "\n",
    "# Printing all dictionaries\n",
    "for user in users:\n",
    "    print(user)\n",
    "    "
   ]
  },
  {
   "cell_type": "code",
   "execution_count": null,
   "metadata": {},
   "outputs": [],
   "source": [
    "# Add all Values Passed\n",
    "#The * in Python is called the unpacking operator and is used to collect multiple positional arguments into a tuple\n",
    "# or to unpack elements from a collection like a list, tuple, or set.\n",
    "# A tuple is an ordered, immutable collection of elements in Python, enclosed in parentheses ()\n",
    "def add_all(*nums: int) -> int:\n",
    "  return sum(nums)\n",
    "add_all(3000, 4300, 5900)\n",
    "\n",
    "# nums is a tupple checked below\n",
    "nums = (3000, 4300, 5900)\n",
    "type(nums)"
   ]
  },
  {
   "cell_type": "code",
   "execution_count": null,
   "metadata": {},
   "outputs": [],
   "source": [
    "def apply_discount(price: int, discount: float = 10): # default discount value is 10 when user do not provide it will be 10\n",
    "  return price - (price * discount / 100)\n",
    "apply_discount(100 , 2)"
   ]
  },
  {
   "cell_type": "markdown",
   "metadata": {},
   "source": [
    "Understanding Arguments"
   ]
  },
  {
   "cell_type": "code",
   "execution_count": null,
   "metadata": {},
   "outputs": [],
   "source": [
    "def register_company(name: str, password: str) -> None:\n",
    "  print(name, password)\n",
    "\n",
    "# positional arguments\n",
    "register_company(\"Namrah\" , \"123\")\n",
    "\n",
    "# keyword arguments\n",
    "register_company(password=\"123\", name=\"Namrah\")"
   ]
  },
  {
   "cell_type": "code",
   "execution_count": null,
   "metadata": {},
   "outputs": [],
   "source": [
    "# *directors = Value\n",
    "def register_company(name: str, password: str, *directors: str):\n",
    "    print(directors)\n",
    "\n",
    "register_company('Company A', 'password123', 'John', 'Alice', 'Bob')\n",
    "\n",
    "# When you call the function, you can pass any number of directors' names (e.g., 'John', 'Alice', 'Bob'),\n",
    "# and they will be collected into a tuple like ('John', 'Alice', 'Bob')."
   ]
  },
  {
   "cell_type": "code",
   "execution_count": null,
   "metadata": {},
   "outputs": [],
   "source": [
    "# **offices = Key, Value\n",
    "def register_company(name: str, password: str, **offices: dict):\n",
    "    print(offices)\n",
    "\n",
    "register_company('Company A', 'password123', headquarter='NYC', branch='LA')\n"
   ]
  },
  {
   "cell_type": "markdown",
   "metadata": {},
   "source": [
    "Specially for colab below cell"
   ]
  },
  {
   "cell_type": "code",
   "execution_count": null,
   "metadata": {},
   "outputs": [],
   "source": [
    "!pip install google-genai\n",
    "!pip install -U -q google-genai\n",
    "from google.colab import userdata\n",
    "\n",
    "api_key = userdata.get('GEMINI_API_KEY')\n",
    "from google import genai\n",
    "\n",
    "client = genai.Client(api_key=api_key)\n",
    "\n",
    "# how to use gemeni?  below code\n",
    "response = client.models.generate_content(\n",
    "    model= \"gemini-2.0-flash-exp\",\n",
    "    contents='How does AI work?'\n",
    ")\n",
    "print(response.text)"
   ]
  },
  {
   "cell_type": "markdown",
   "metadata": {},
   "source": [
    "File Handling"
   ]
  },
  {
   "cell_type": "code",
   "execution_count": null,
   "metadata": {},
   "outputs": [],
   "source": [
    "#if there is no file it will create file\n",
    "file = open(\"namrah.txt\", \"w\")\n",
    "file.write(\"Hello there Namrah\")\n",
    "file.close()\n",
    "\n",
    "# write read and seek\n",
    "file = open(\"namrah.txt\", \"w+\") # + sign is because we are reading too\n",
    "file.write(\"Hello there Namrah\")\n",
    "file.seek(3)    # seek is cursor position\n",
    "line = file.read()\n",
    "print(line)\n",
    "file.close()"
   ]
  },
  {
   "cell_type": "code",
   "execution_count": null,
   "metadata": {},
   "outputs": [],
   "source": [
    "# compact way to upeer code because in this code there is no need to write close()\n",
    "with open(\"namrah2.text\" , \"w\") as newFile:\n",
    "  newFile.write(\"Hello World\")\n",
    "\n",
    "# if you also want to read\n",
    "with open(\"namrah2.txt\", \"w+\") as newFile:\n",
    "  newFile.write(\"Hello World\")\n",
    "  newFile.seek(0)\n",
    "  line = newFile.read()\n",
    "  print(line)    # output Hello World"
   ]
  },
  {
   "cell_type": "markdown",
   "metadata": {},
   "source": [
    "File Upload"
   ]
  },
  {
   "cell_type": "code",
   "execution_count": null,
   "metadata": {},
   "outputs": [],
   "source": [
    "from google.colab import files\n",
    "uploaded = files.upload()\n",
    "# prompt: create a csv file with three columns, name, number and address with python\n",
    "import csv\n",
    "\n",
    "def create_csv(filename):\n",
    "  with open(filename, \"w\", newline=\"\")as csvfile:\n",
    "    writer = csv.writer(csvfile)\n",
    "    writer.writerow([\"Name\", \"Number\", \"Address\"])\n",
    "    writer.writerow([\"John\", \"123\", \"main street\" ])\n",
    "    writer.writerow([\"Jug\", \"1234\", \"main street\" ])\n",
    "    writer.writerow([\"glass\", \"1235\", \"main street\" ])\n",
    "\n",
    "    create_csv(\"data.csv\")\n"
   ]
  },
  {
   "cell_type": "code",
   "execution_count": null,
   "metadata": {},
   "outputs": [],
   "source": [
    "my_numbers = list(range(1,10,2))  # list() function prints out all elements within a range\n",
    "print(my_numbers)"
   ]
  },
  {
   "cell_type": "code",
   "execution_count": null,
   "metadata": {},
   "outputs": [],
   "source": [
    "my_set = {1, 2, 3}\n",
    "my_set.add(5)\n",
    "my_set.add(4)\n",
    "print(my_set)"
   ]
  },
  {
   "cell_type": "markdown",
   "metadata": {},
   "source": [
    "OOPs"
   ]
  },
  {
   "cell_type": "code",
   "execution_count": null,
   "metadata": {},
   "outputs": [],
   "source": [
    "# Class with its two 3 properties address doors and rooms etc, House is an object A blueprint\n",
    "class House:\n",
    "  address: str\n",
    "  num_of_doors: int = 2\n",
    "  num_of_doors: int = 4\n",
    "# Whenever the class is called the constructor function will run\n",
    "# Constructor function inside class\n",
    "  def __init__ (self, address:str ):\n",
    "    self.address = address\n",
    "# A function of Ringbell Basicaly called a method\n",
    "  def ring_bell(self):\n",
    "    print(\"Ring Ring\")\n",
    "\n",
    "Namrah_house = House(\"House no 123\")\n",
    "print(f\"Namrah's house is located at {Namrah_house.address}\")\n",
    "\n",
    "Shoaib_house = House(\"house no 456\")\n",
    "print(f\"Shoaib's house is located at {Shoaib_house.address}\")"
   ]
  },
  {
   "cell_type": "markdown",
   "metadata": {},
   "source": [
    "Inheritance"
   ]
  },
  {
   "cell_type": "code",
   "execution_count": null,
   "metadata": {},
   "outputs": [],
   "source": [
    "class Animal:\n",
    "  name:str\n",
    "  age:int\n",
    "\n",
    "  def __init__(self, name:str, age:int):\n",
    "    self.name = name\n",
    "    self.age = age\n",
    "\n",
    "class Cat(Animal):\n",
    "  cat_food:str\n",
    "\n",
    "  def __init__(self, name, age,food)\n",
    "    self.cat_food = food\n"
   ]
  },
  {
   "cell_type": "code",
   "execution_count": null,
   "metadata": {},
   "outputs": [],
   "source": [
    "def add(num1, num2):\n",
    "  print( num1 + num2)\n",
    "\n",
    "def subtract(num1, num2):\n",
    "  print( num1 - num2)\n",
    "\n",
    "def multiply(num1, num2):\n",
    "  print( num1 * num2)\n",
    "\n",
    "def divide(num1, num2):\n",
    "  print( num1 / num2)\n",
    "\n",
    "divide(3,4)  #calling divide function"
   ]
  },
  {
   "cell_type": "code",
   "execution_count": null,
   "metadata": {},
   "outputs": [],
   "source": [
    "class calc:\n",
    "  def add(self,num1,num2):\n",
    "    print(num1+num2)\n",
    "\n",
    "  def subtract(self,num1,num2):\n",
    "    print(num1-num2)\n",
    "\n",
    "  def multiply(self,num1,num2):\n",
    "    print(num1*num2)\n",
    "\n",
    "  def divide(self,num1,num2):\n",
    "    print(num1/num2)\n",
    "\n",
    "calculate = calc()\n",
    "calculate.add(3,4)   # etc"
   ]
  },
  {
   "cell_type": "markdown",
   "metadata": {},
   "source": [
    "# **Polymorphism**\n",
    " Ek he naam wala method lekin har class mein alag behavior show kare.\n",
    "\n"
   ]
  },
  {
   "cell_type": "code",
   "execution_count": null,
   "metadata": {},
   "outputs": [],
   "source": [
    "class Animal:\n",
    "  name: str\n",
    "\n",
    "  def __init__(self, name):\n",
    "    self.name = name\n",
    "\n",
    "  def make_sound(self):\n",
    "    print(\"Animal sound\")\n",
    "\n",
    "\n",
    "class Cat(Animal):\n",
    "  def make_sound(self):\n",
    "    print(\"Meow meow\")\n",
    "\n",
    "cat1 = Cat(\"Tun Tun\")\n",
    "cat1.make_sound()"
   ]
  },
  {
   "cell_type": "code",
   "execution_count": null,
   "metadata": {},
   "outputs": [],
   "source": [
    "class Person:\n",
    "  name:str\n",
    "\n",
    "  def __init__(self, name):\n",
    "    self.name = name\n",
    "\n",
    "person1 = Person( name=\"ayesha\")\n",
    "print(person1.name)\n",
    "\n",
    "person2 = Person( name=\"ahmed\")\n",
    "print(person2.name)"
   ]
  },
  {
   "cell_type": "code",
   "execution_count": null,
   "metadata": {},
   "outputs": [],
   "source": [
    "class Person:\n",
    "  name:str\n",
    "  secret:str\n",
    "\n",
    "  def __init__(self, name, secret):\n",
    "    self.name = name\n",
    "    self.secret = secret\n",
    "\n",
    "person1 = Person( name=\"ayesha\", secret=\"waniya is my sister\")\n",
    "print(person1.name)\n",
    "print(person1.secret)"
   ]
  },
  {
   "cell_type": "markdown",
   "metadata": {},
   "source": [
    "Incapsulation"
   ]
  },
  {
   "cell_type": "code",
   "execution_count": null,
   "metadata": {},
   "outputs": [],
   "source": [
    "class Person:\n",
    "  name:str   #hence this is called our public property\n",
    "  __secret:str  #these underscores will allow us to make our secret property to become private and will give error which is of attribute error\n",
    "\n",
    "  def __init__(self, name, secret):\n",
    "    self.name = name\n",
    "    self.__secret = secret\n",
    "\n",
    "person1 = Person( name=\"ayesha\", secret=\"waniya is my sister\")\n",
    "print(person1.name)\n",
    "print(person1.__secret)\n"
   ]
  },
  {
   "cell_type": "markdown",
   "metadata": {},
   "source": [
    "Inheritance Revision"
   ]
  },
  {
   "cell_type": "code",
   "execution_count": null,
   "metadata": {},
   "outputs": [],
   "source": [
    "class Person:\n",
    "  name:str\n",
    "  __secret:str\n",
    "\n",
    "  def __init__(self, name, secret):\n",
    "    self.name = name\n",
    "    self.__secret = secret\n",
    "\n",
    "person1 = Person( name=\"ayesha\", secret=\"waniya is my sister\")\n",
    "# print(person1.name)\n",
    "# print(person1.__secret)\n",
    "\n",
    "\n",
    "class Student(Person):\n",
    "\n",
    "  def introduce(self):\n",
    "    print(f\" Hi my name is {self.name}\")\n",
    "\n",
    "std1 = Student(\"Hamid\", \"scared of darkness\")\n",
    "std1.introduce()"
   ]
  },
  {
   "cell_type": "code",
   "execution_count": null,
   "metadata": {},
   "outputs": [],
   "source": [
    "class Person:\n",
    "  name:str\n",
    "  __secret:str\n",
    "\n",
    "  def __init__(self, name, secret):\n",
    "    self.name = name\n",
    "    self.__secret = secret\n",
    "\n",
    "person1 = Person( name=\"ayesha\", secret=\"waniya is my sister\")\n",
    "print(person1.name)\n",
    "print(person1.__secret)\n",
    "\n",
    "\n",
    "class Student(Person):\n",
    "\n",
    "  def introduce(self):\n",
    "    print(f\" Hi my name is {self.name} and my secret is {self.__secret}\") # this will give an error as secret will again not be inherited in child due to underscores\n",
    "\n",
    "std1 = Student(\"Hamid\", \"scared of darkness\")\n",
    "std1.introduce()"
   ]
  },
  {
   "cell_type": "code",
   "execution_count": null,
   "metadata": {},
   "outputs": [],
   "source": [
    "class Person:\n",
    "  name:str  #this is public property\n",
    "  __secret:str  #this is private property\n",
    "  _age:int  #this is protected property as it have single underscore\n",
    "\n",
    "  def __init__(self, name, secret, age):\n",
    "    self.name = name\n",
    "    self.secret = secret\n",
    "    self._age = age\n",
    "\n",
    "# person1 = Person( name=\"ayesha\", secret=\"waniya is my sister\" )\n",
    "# print(person1.name)\n",
    "# print(person1.secret)\n",
    "\n",
    "\n",
    "class Student(Person):\n",
    "\n",
    "  def introduce(self):\n",
    "    print(f\"Hi my name is {self.name}  and my age is {self._age}\") #age can be inherited but is just protected.\n",
    "\n",
    "std1 = Student(\"Hamid\", \"scared of darkness\", 32)\n",
    "std1.introduce()\n",
    "print(std1._age)"
   ]
  },
  {
   "cell_type": "markdown",
   "metadata": {},
   "source": [
    "Abstraction"
   ]
  },
  {
   "cell_type": "code",
   "execution_count": null,
   "metadata": {},
   "outputs": [],
   "source": [
    "from abc import ABC, abstractmethod #ABC ka full form abstraction hota hai\n",
    "\n",
    "class Shape(ABC):\n",
    "  @abstractmethod  #will discuss in next class this @ is called decorators  #this abstract will allow this area function to implement in another class\n",
    "  def area():\n",
    "    pass  # this pass function is used when your function not doing anything\n",
    "\n",
    "class Circle(Shape):\n",
    "  name:str = \"Circle\"\n",
    "  radius:int\n",
    "\n",
    "  def __init__(self, radius):\n",
    "    self.radius = radius\n",
    "\n",
    "  def area(self):\n",
    "    print(3.14 * self.radius ** 2)\n",
    "\n",
    "c1 = Circle(6)\n",
    "c1.area()"
   ]
  },
  {
   "cell_type": "markdown",
   "metadata": {},
   "source": [
    "Learn how to make python project in colab using Streamlit and in colab via ngrok or VS OR Cursor"
   ]
  }
 ],
 "metadata": {
  "colab": {
   "authorship_tag": "ABX9TyNLIRCWSGJFz2db7avUZBSG",
   "provenance": []
  },
  "kernelspec": {
   "display_name": "Python 3",
   "name": "python3"
  },
  "language_info": {
   "name": "python"
  }
 },
 "nbformat": 4,
 "nbformat_minor": 0
}
