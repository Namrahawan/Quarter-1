{
  "nbformat": 4,
  "nbformat_minor": 0,
  "metadata": {
    "colab": {
      "provenance": []
    },
    "kernelspec": {
      "name": "python3",
      "display_name": "Python 3"
    },
    "language_info": {
      "name": "python"
    }
  },
  "cells": [
    {
      "cell_type": "markdown",
      "metadata": {
        "id": "BO2oYZXEafWB"
      },
      "source": [
        "homework_projects. (00_intro_python)"
      ]
    },
    {
      "cell_type": "code",
      "execution_count": null,
      "metadata": {
        "id": "CfcyBJCTnUrF"
      },
      "outputs": [],
      "source": [
        "# (1).01_add_two_numbers.md\n",
        "#Write a Python program that takes two integer inputs from the user and calculates their sum\n",
        "first_num = int(input(\"Enter the first number\"))\n",
        "second_num = int(input(\"Enter the second num\"))\n",
        "final_sum = first_num + second_num\n",
        "print(\"Sum of two numbers is\", final_sum)"
      ]
    },
    {
      "cell_type": "code",
      "execution_count": null,
      "metadata": {
        "id": "x5LbdjamnYX1"
      },
      "outputs": [],
      "source": [
        "#Do the same sum but with (\"TYPE HINTS\" :they're just annotations to help developers understand what type of data a variable is expected to hold) and (function)\n",
        "def main():\n",
        "  print(\"This program adds two numbers\")\n",
        "  num1:str = input(\"Enter the first number: \")\n",
        "  num1:int = int(num1)\n",
        "  num2:str = input(\"Enter the second number: \")\n",
        "  num2:int = int(num2)\n",
        "  total:int = num1 + num2\n",
        "  print(\"The total is \" + str(total) + \".\") #Concat\n",
        "if __name__ == '__main__':\n",
        "  main()"
      ]
    },
    {
      "cell_type": "code",
      "execution_count": null,
      "metadata": {
        "id": "msU6qv80nbD9"
      },
      "outputs": [],
      "source": [
        "# (2) 02_agreement_bot.md\n",
        "#Write a program which asks the user what their favorite animal is, and then always responds with \"My favorite animal is also ___!\" user input is in bold italics\n",
        "def main():\n",
        "  print(\"Program will asks the user what's their favorite animal\")\n",
        "  fav_animal:str = input(\"Whats Your fav animal? \")\n",
        "  formatted_animal = f\"\\033[1;3m{fav_animal}\\033[0m\"  # Bold and Italics\n",
        "  print(\"My fav animal is also \", formatted_animal, \"!\")\n",
        "\n",
        "if __name__ == '__main__':\n",
        "  main()"
      ]
    },
    {
      "cell_type": "code",
      "execution_count": null,
      "metadata": {
        "id": "AAKUyTmBnd_t"
      },
      "outputs": [],
      "source": [
        "# (3) 03_fahrenheit_to_celsius.md\n",
        "#Write a program which prompts the user for a temperature in Fahrenheit (this can be a number with decimal places!)\n",
        "# and outputs the temperature converted to Celsius. user input is in bold italics f\"\\033[1;3m{user_input}\\033[0m\"\n",
        "def main():\n",
        "  print(\"This program will convert Fahrenheit to Celsius\")\n",
        "  user_input:str = input(\"Enter the temperature in fahrenheit \")\n",
        "  user_input:float = float(user_input)\n",
        "  formatted_input = f\"\\033[1;3m{user_input}\\033[0m\"\n",
        "  degree_celsius:int = (user_input - 32) * 5.0/9.0\n",
        "  print(user_input, \"to celsius is: \", degree_celsius)\n",
        "if __name__ == '__main__':\n",
        "  main()"
      ]
    },
    {
      "cell_type": "code",
      "execution_count": null,
      "metadata": {
        "id": "yIoHiFnvnhCt"
      },
      "outputs": [],
      "source": [
        "# (4) 04_how_old_are_they.md\n",
        "# Write a program to solve this age-related riddle!\n",
        "# Anton, Beth, Chen, Drew, and Ethan are all friends. Their ages are as follows:\n",
        "# Anton is 21 years old.Beth is 6 years older than Anton.Chen is 20 years older than Beth.Drew is as old as Chen's age plus Anton's age.Ethan is the same age as Chen.\n",
        "# Your code should store each person's age to a variable and print their names and ages at the end\n",
        "def main():\n",
        "  print(\"This program will solve this age-related riddle!\")\n",
        "  anton_age:int = 21\n",
        "  beth_age:int = anton_age + 6\n",
        "  chen_age:int = beth_age + 20\n",
        "  drew_age:int = chen_age + anton_age\n",
        "  ethan_age:int = chen_age\n",
        "\n",
        "  print(\"Anton is \",anton_age)\n",
        "  print(\"Beth is \", beth_age)\n",
        "  print(\"Chen is \", chen_age)\n",
        "  print(\"Drew is \", drew_age)\n",
        "  print(\"Ethan is \", ethan_age)\n",
        "if __name__ == '__main__':\n",
        "  main()"
      ]
    },
    {
      "cell_type": "code",
      "execution_count": null,
      "metadata": {
        "id": "6cM01LGInlJl"
      },
      "outputs": [],
      "source": [
        "# (5) 05_triangle_perimeter.md\n",
        "# Prompt the user to enter the lengths of each side of a triangle and then calculate and print the perimeter of the triangle (the sum of all of the side lengths).\n",
        "# user input is in bold italics  f\"\\033[1;3m{user_input}\\033[0m\"\n",
        "def main():\n",
        "  print(\"This program will calculate the perimeter of a triangle\")\n",
        "  side_one = int(input(\"Enter the length of side 1: \"))\n",
        "  side_two = int(input(\"Enter the length of side 2: \"))\n",
        "  #as above you can use simple syntax as for side one and two but below for side 3 i used different syntax both work well\n",
        "  side_three: str = input(\"Enter the length of side 3: \")\n",
        "  side_three:int = int(side_three)\n",
        "  f\"\\033[1;3m{side_one, side_two, side_three}\\033[0m\"\n",
        "  #print(\"The perimeter of triangle is \" + str(side_one + side_two + side_three))  \"can also use this line to print\"\n",
        "  perimeter:int = side_one + side_two + side_three\n",
        "  print(\"The perimeter of the triangle is \", perimeter)\n",
        "if __name__ == '__main__':\n",
        "  main()\n"
      ]
    },
    {
      "cell_type": "code",
      "execution_count": null,
      "metadata": {
        "colab": {
          "background_save": true,
          "base_uri": "https://localhost:8080/"
        },
        "id": "6d2OX-0dno4V",
        "outputId": "4ec45b83-d97f-4e62-c82d-2b89883cb54a"
      },
      "outputs": [
        {
          "name": "stdout",
          "output_type": "stream",
          "text": [
            "This program will calculate the square of a number\n"
          ]
        }
      ],
      "source": [
        "# (6) 06_square_number.md\n",
        "# Ask the user for a number and print its square (the product of the number times itself).\n",
        "# user input is in bold italics f\"\\033[1;3m{user_input}\\033[0m\"\n",
        "def main():\n",
        "  print(\"This program will calculate the square of a number\")\n",
        "  num:str = input(\"Enter a number: \")\n",
        "  num:int = int(num)\n",
        "  f\"\\033[1;3m{num}\\033[0m\"\n",
        "  square = num * num\n",
        "  print(\"The square of num is: \", square)\n",
        "if __name__ == '__main__':\n",
        "  main()"
      ]
    },
    {
      "cell_type": "markdown",
      "metadata": {
        "id": "377k5Kz9bByB"
      },
      "source": [
        "Home Projects... 01_expressions"
      ]
    },
    {
      "cell_type": "code",
      "execution_count": null,
      "metadata": {
        "id": "_gsD6-Gva_U5"
      },
      "outputs": [],
      "source": [
        "# (1) 01_dicesimulator.md\n",
        "#"
      ]
    }
  ]
}