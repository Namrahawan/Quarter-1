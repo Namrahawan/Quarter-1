{
  "nbformat": 4,
  "nbformat_minor": 0,
  "metadata": {
    "colab": {
      "provenance": []
    },
    "kernelspec": {
      "name": "python3",
      "display_name": "Python 3"
    },
    "language_info": {
      "name": "python"
    }
  },
  "cells": [
    {
      "cell_type": "markdown",
      "source": [
        "# Farzeen Arshad (**PIAIC211225**)"
      ],
      "metadata": {
        "id": "y5iBec40jCbt"
      }
    },
    {
      "cell_type": "markdown",
      "source": [
        "# Project 2 **Guess the Number Game (Computer)**"
      ],
      "metadata": {
        "id": "7_N65lHtsQsa"
      }
    },
    {
      "cell_type": "code",
      "source": [
        "import random\n",
        "\n",
        "def  guess(x):\n",
        "  random_number = random.randint(1,x)\n",
        "  guess = 0\n",
        "#\n",
        "  while guess != random_number:\n",
        "    guess = int(input(f\"Guess a number between 1 and {x}\"))\n",
        "    if guess < random_number:\n",
        "      print(\"Sorry, guess is too low..Try again \")\n",
        "    elif guess > random_number:\n",
        "      print(\"Sorry, guess is too high..Try again \")\n",
        "\n",
        "  print(f\"Wow! You have guessed the number!{x}\")\n",
        "\n",
        "guess(100 )"
      ],
      "metadata": {
        "id": "-JwIVGbLtcEB"
      },
      "execution_count": null,
      "outputs": []
    }
  ]
}