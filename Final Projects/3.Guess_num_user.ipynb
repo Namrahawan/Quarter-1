{
  "nbformat": 4,
  "nbformat_minor": 0,
  "metadata": {
    "colab": {
      "provenance": []
    },
    "kernelspec": {
      "name": "python3",
      "display_name": "Python 3"
    },
    "language_info": {
      "name": "python"
    }
  },
  "cells": [
    {
      "cell_type": "markdown",
      "source": [
        "# Farzeen Arshad (**PIAIC211225**)"
      ],
      "metadata": {
        "id": "y5iBec40jCbt"
      }
    },
    {
      "cell_type": "markdown",
      "source": [
        "# Project 3 **Guess the Number Game (User)**"
      ],
      "metadata": {
        "id": "7_N65lHtsQsa"
      }
    },
    {
      "cell_type": "markdown",
      "source": [
        "One Way to do this program"
      ],
      "metadata": {
        "id": "rxhIkoiJhDJQ"
      }
    },
    {
      "cell_type": "code",
      "source": [
        "# uses binary search logic to guess the number in fewer attempts.\n",
        "def user_number_game():\n",
        "    print(\"Welcome to the User Number Game!\")\n",
        "    print(\"I am guessing a number between 1 and 100.\")\n",
        "    low = 1\n",
        "    high = 100\n",
        "    attempts = 0\n",
        "\n",
        "# The guesses are deterministic (always the midpoint), so no randomness is involved.\n",
        "    while True:\n",
        "        guess = (low + high) // 2\n",
        "        attempts += 1\n",
        "        print(f\"My guess is {guess}.\")\n",
        "\n",
        "        # Get feedback from the user\n",
        "        feedback = input(\"Is my guess (h)igh, (l)ow, or (c)orrect? \").lower()\n",
        "\n",
        "        # Adjust range based on user feedback\n",
        "        if feedback == \"h\":\n",
        "            high = guess - 1\n",
        "        elif feedback == \"l\":\n",
        "            low = guess + 1\n",
        "        elif feedback == \"c\":\n",
        "            print(f\"Yay! I guessed your number {guess} in {attempts} attempts!\")\n",
        "            break\n",
        "        else:\n",
        "            print('Invalid input, please enter \"h\", \"l\", or \"c\".')\n",
        "\n",
        "# Call the function to run the game\n",
        "user_number_game()\n"
      ],
      "metadata": {
        "colab": {
          "base_uri": "https://localhost:8080/"
        },
        "id": "80Q05tTceRRT",
        "outputId": "2b7d9bee-feec-4874-c3f1-3342edcc39c0"
      },
      "execution_count": 13,
      "outputs": [
        {
          "output_type": "stream",
          "name": "stdout",
          "text": [
            "Welcome to the User Number Game!\n",
            "I am guessing a number between 1 and 100.\n",
            "My guess is 50.\n",
            "Is my guess (h)igh, (l)ow, or (c)orrect? l\n",
            "My guess is 75.\n",
            "Is my guess (h)igh, (l)ow, or (c)orrect? h\n",
            "My guess is 62.\n",
            "Is my guess (h)igh, (l)ow, or (c)orrect? l\n",
            "My guess is 68.\n",
            "Is my guess (h)igh, (l)ow, or (c)orrect? l\n",
            "My guess is 71.\n",
            "Is my guess (h)igh, (l)ow, or (c)orrect? h\n",
            "My guess is 69.\n",
            "Is my guess (h)igh, (l)ow, or (c)orrect? l\n",
            "My guess is 70.\n",
            "Is my guess (h)igh, (l)ow, or (c)orrect? c\n",
            "Yay! I guessed your number 70 in 7 attempts!\n"
          ]
        }
      ]
    },
    {
      "cell_type": "markdown",
      "source": [
        "Other way to do this program"
      ],
      "metadata": {
        "id": "GkC6s9zXhIwg"
      }
    },
    {
      "cell_type": "code",
      "source": [
        "#  adds an element of randomness, which might make it more entertaining but less efficient.\n",
        "import random\n",
        "def computer_guess(x):\n",
        "  low = 1\n",
        "  high = x\n",
        "  feedback = \" \"\n",
        "\n",
        "  while feedback != \"c\":\n",
        "    if low != high:\n",
        "      guess = random.randint(low, high)\n",
        "    else:\n",
        "      guess = low\n",
        "    feedback = input(f\"is {guess} too high? (h) or too low? (l) or correct? (c) \").lower()\n",
        "    if feedback == \"h\":\n",
        "      high = guess - 1\n",
        "    elif feedback == \"l\":\n",
        "      low = guess + 1\n",
        "\n",
        "  print(f\"Yay!! I have guessed the number {guess} correctly\")\n",
        "\n",
        "computer_guess(100)\n"
      ],
      "metadata": {
        "id": "jMZDcbtiKBj9",
        "colab": {
          "base_uri": "https://localhost:8080/"
        },
        "outputId": "5e3c9e56-868e-4702-8ed2-0df669718844"
      },
      "execution_count": 9,
      "outputs": [
        {
          "output_type": "stream",
          "name": "stdout",
          "text": [
            "is 68 too high? (h) or too low? (l) or correct? (c) h\n",
            "is 46 too high? (h) or too low? (l) or correct? (c) h\n",
            "is 25 too high? (h) or too low? (l) or correct? (c) h\n",
            "is 15 too high? (h) or too low? (l) or correct? (c) l\n",
            "is 24 too high? (h) or too low? (l) or correct? (c) h\n",
            "is 22 too high? (h) or too low? (l) or correct? (c) h\n",
            "is 16 too high? (h) or too low? (l) or correct? (c) l\n",
            "is 19 too high? (h) or too low? (l) or correct? (c) l\n",
            "is 20 too high? (h) or too low? (l) or correct? (c) c\n",
            "Yay!! I have guessed the number 20 correctly\n"
          ]
        }
      ]
    }
  ]
}