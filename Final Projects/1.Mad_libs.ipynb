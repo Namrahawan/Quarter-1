{
  "nbformat": 4,
  "nbformat_minor": 0,
  "metadata": {
    "colab": {
      "provenance": []
    },
    "kernelspec": {
      "name": "python3",
      "display_name": "Python 3"
    },
    "language_info": {
      "name": "python"
    }
  },
  "cells": [
    {
      "cell_type": "markdown",
      "source": [
        "# Farzeen Arshad (**PIAIC211225**)"
      ],
      "metadata": {
        "id": "y5iBec40jCbt"
      }
    },
    {
      "cell_type": "markdown",
      "source": [
        "#Project 1 **Mad Libs** Python Game"
      ],
      "metadata": {
        "id": "nDyy9mCMi6Pd"
      }
    },
    {
      "cell_type": "code",
      "source": [
        "# Practice\n",
        "adj = input(\"Adjective: \")\n",
        "verb1 = input(\"Verb: \")\n",
        "verb2= input(\"Verb: \")\n",
        "famous_person = input(\"Famous Person: \")\n",
        "\n",
        "mad_lib = f\"Computer programming is so {adj} it makes me so excited because \\\n",
        "i love to {verb1}.Stay hydrated and {verb2} like you are a {famous_person}\"\n",
        "\n",
        "print(mad_lib)"
      ],
      "metadata": {
        "id": "vejP8ax2jKfU"
      },
      "execution_count": null,
      "outputs": []
    },
    {
      "cell_type": "code",
      "source": [
        "# project\n",
        "astronaut = input(\"Enter an astronaut's name: \")\n",
        "planet = input(\"Enter a planet: \")\n",
        "alien_name = input(\"Enter an alien's name: \")\n",
        "\n",
        "story = f\"Astronaut {astronaut} landed on {planet}.\\\n",
        "There, they met an alien named {alien_name}, and together, they explored the universe! \\\n",
        "The alien surprised {astronaut} by offering them a glowing fruit that made them float in the air for ten minutes!\"\n",
        "\n",
        "print(story)"
      ],
      "metadata": {
        "id": "LmbgS7tvq_9U"
      },
      "execution_count": null,
      "outputs": []
    }
  ]
}