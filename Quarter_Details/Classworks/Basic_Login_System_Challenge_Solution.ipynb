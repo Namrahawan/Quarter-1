{
  "nbformat": 4,
  "nbformat_minor": 0,
  "metadata": {
    "colab": {
      "provenance": []
    },
    "kernelspec": {
      "name": "python3",
      "display_name": "Python 3"
    },
    "language_info": {
      "name": "python"
    }
  },
  "cells": [
    {
      "cell_type": "code",
      "execution_count": null,
      "metadata": {
        "colab": {
          "base_uri": "https://localhost:8080/"
        },
        "id": "Gvek6rUygX0E",
        "outputId": "d8799911-72ff-4bfc-e4d1-ef6d3e9a06c8"
      },
      "outputs": [
        {
          "output_type": "stream",
          "name": "stdout",
          "text": [
            "Enter your username: aa\n",
            "Enter your password: aa\n",
            "Incorrect credentials. You have 2 attempts left.\n",
            "Enter your username: ss\n",
            "Enter your password: ss\n",
            "Incorrect credentials. You have 1 attempts left.\n",
            "Enter your username: admin\n",
            "Enter your password: password123\n",
            "Welcome, admin!\n"
          ]
        }
      ],
      "source": [
        "# Initialize the username and password\n",
        "username = \"admin\"\n",
        "password = \"password123\"\n",
        "\n",
        "# Initialize the number of attempts\n",
        "attempts = 0\n",
        "\n",
        "# Initialize the maximum number of attempts\n",
        "max_attempts = 3\n",
        "\n",
        "# Loop until the user logs in or runs out of attempts\n",
        "while attempts < max_attempts:\n",
        "    # Prompt the user to enter their username and password\n",
        "    input_username = input(\"Enter your username: \")\n",
        "    input_password = input(\"Enter your password: \")\n",
        "\n",
        "    # Check if the entered username and password are correct\n",
        "    if input_username == username and input_password == password:\n",
        "        # If the credentials are correct, print a welcome message and break out of the loop\n",
        "        print(\"Welcome, admin!\")\n",
        "        break\n",
        "    else:\n",
        "        # If the credentials are incorrect, print an error message and increment the number of attempts\n",
        "        print(\"Incorrect credentials. You have\", max_attempts - attempts - 1, \"attempts left.\")\n",
        "        attempts += 1\n",
        "\n",
        "# If the user runs out of attempts, print a failure message\n",
        "if attempts == max_attempts:\n",
        "    print(\"Login attempts failed. Please try again later.\")"
      ]
    }
  ]
}