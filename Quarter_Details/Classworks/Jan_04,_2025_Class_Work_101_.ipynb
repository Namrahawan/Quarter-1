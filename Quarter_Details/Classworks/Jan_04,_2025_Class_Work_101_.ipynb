{
  "nbformat": 4,
  "nbformat_minor": 0,
  "metadata": {
    "colab": {
      "provenance": []
    },
    "kernelspec": {
      "name": "python3",
      "display_name": "Python 3"
    },
    "language_info": {
      "name": "python"
    }
  },
  "cells": [
    {
      "cell_type": "code",
      "execution_count": null,
      "metadata": {
        "colab": {
          "base_uri": "https://localhost:8080/"
        },
        "id": "vV7u5m_kk9Jj",
        "outputId": "d542010c-ebb9-4423-ba42-115dadc73400"
      },
      "outputs": [
        {
          "output_type": "stream",
          "name": "stdout",
          "text": [
            "PIAIC  9\n",
            "PIAIC  8\n",
            "PIAIC  7\n"
          ]
        }
      ],
      "source": [
        "x = 10\n",
        "while True:\n",
        "  if x == 7:\n",
        "    break\n",
        "  x -= 1\n",
        "  print(\"PIAIC \", x)"
      ]
    },
    {
      "cell_type": "markdown",
      "source": [
        "# String\n",
        "1. `'your text here'`\n",
        "  * `'`start `'`\n",
        "2. `\"your text here\"`\n",
        "3. `'''multiline text here'''`\n",
        "4. `\"\"\"multline text here\"\"\"`"
      ],
      "metadata": {
        "id": "9f8xofR5uj9l"
      }
    },
    {
      "cell_type": "code",
      "source": [
        "name : str  = 'pakistan zinda bad'\n",
        "\n",
        "print(type(name))\n",
        "print(name)"
      ],
      "metadata": {
        "colab": {
          "base_uri": "https://localhost:8080/"
        },
        "id": "oFfkuJ7Muhys",
        "outputId": "cb6ab3bc-58d4-4a0c-bab6-eb2acbbc7fc5"
      },
      "execution_count": null,
      "outputs": [
        {
          "output_type": "stream",
          "name": "stdout",
          "text": [
            "<class 'str'>\n",
            "pakistan zinda bad\n"
          ]
        }
      ]
    },
    {
      "cell_type": "code",
      "source": [
        "name : str  = \"pakistan zinda bad\"\n",
        "\n",
        "print(type(name))\n",
        "print(name)"
      ],
      "metadata": {
        "colab": {
          "base_uri": "https://localhost:8080/"
        },
        "id": "VylTn_RgvWBB",
        "outputId": "011dac13-b21c-4dab-c09b-4a6081e8e270"
      },
      "execution_count": null,
      "outputs": [
        {
          "output_type": "stream",
          "name": "stdout",
          "text": [
            "<class 'str'>\n",
            "pakistan zinda bad\n"
          ]
        }
      ]
    },
    {
      "cell_type": "code",
      "source": [
        "name : str = \"Pakistan zinda bad\\nHello world\\nWe love our country\"\n",
        "\n",
        "print(type(name))\n",
        "print(name)"
      ],
      "metadata": {
        "colab": {
          "base_uri": "https://localhost:8080/"
        },
        "id": "8vsDa-plvn-M",
        "outputId": "2ce88379-7b23-43a4-b115-0760d8d95d0e"
      },
      "execution_count": null,
      "outputs": [
        {
          "output_type": "stream",
          "name": "stdout",
          "text": [
            "<class 'str'>\n",
            "Pakistan zinda bad\n",
            "Hello world\n",
            "We love our country\n"
          ]
        }
      ]
    },
    {
      "cell_type": "code",
      "source": [
        "name : str  = '''pakistan zinda bad\n",
        "Hello world\n",
        "we love our country'''\n",
        "\n",
        "print(type(name))\n",
        "print(name)"
      ],
      "metadata": {
        "colab": {
          "base_uri": "https://localhost:8080/"
        },
        "id": "wYGh-lVkvZzl",
        "outputId": "4a9507f1-609d-47e4-9adc-3e6142e335a6"
      },
      "execution_count": null,
      "outputs": [
        {
          "output_type": "stream",
          "name": "stdout",
          "text": [
            "<class 'str'>\n",
            "pakistan zinda bad\n",
            "Hello world\n",
            "we love our country\n"
          ]
        }
      ]
    },
    {
      "cell_type": "markdown",
      "source": [
        "# String concatination\n",
        "1. `+`\n",
        "  * type casting required with other datatype\n",
        "2. `%`\n",
        "  * required each data type symbols (%s, %d)\n",
        "3. \"\".format()\n",
        "  * place `.format()` at the end of string\n",
        "  * position/index of variable required\n",
        "4. `f-string`\n",
        "  \n"
      ],
      "metadata": {
        "id": "FYYGyps4v-ln"
      }
    },
    {
      "cell_type": "code",
      "source": [
        "name : str = \"Muhammad Qasim\"\n",
        "father_name : str = \"Muhammad Aslam\"\n",
        "age : int = 30\n",
        "education : str = \"MS in Data Science\"\n",
        "#                PIAIC student Card\\nName Muhammad Qasim\\nAge 30\n",
        "message : str = \"PIAIC student Card\\nName \" + name + \"\\nAge \" + age\n",
        "print(message)"
      ],
      "metadata": {
        "colab": {
          "base_uri": "https://localhost:8080/",
          "height": 197
        },
        "id": "W0kB6o0-vmbR",
        "outputId": "aacdf96d-ad35-4a1b-fde0-53efab925421"
      },
      "execution_count": null,
      "outputs": [
        {
          "output_type": "error",
          "ename": "TypeError",
          "evalue": "can only concatenate str (not \"int\") to str",
          "traceback": [
            "\u001b[0;31m---------------------------------------------------------------------------\u001b[0m",
            "\u001b[0;31mTypeError\u001b[0m                                 Traceback (most recent call last)",
            "\u001b[0;32m<ipython-input-17-68eb1cc71c13>\u001b[0m in \u001b[0;36m<cell line: 6>\u001b[0;34m()\u001b[0m\n\u001b[1;32m      4\u001b[0m \u001b[0meducation\u001b[0m \u001b[0;34m:\u001b[0m \u001b[0mstr\u001b[0m \u001b[0;34m=\u001b[0m \u001b[0;34m\"MS in Data Science\"\u001b[0m\u001b[0;34m\u001b[0m\u001b[0;34m\u001b[0m\u001b[0m\n\u001b[1;32m      5\u001b[0m \u001b[0;34m\u001b[0m\u001b[0m\n\u001b[0;32m----> 6\u001b[0;31m \u001b[0mmessage\u001b[0m \u001b[0;34m:\u001b[0m \u001b[0mstr\u001b[0m \u001b[0;34m=\u001b[0m \u001b[0;34m\"PIAIC student Card\\nName \"\u001b[0m \u001b[0;34m+\u001b[0m \u001b[0mname\u001b[0m \u001b[0;34m+\u001b[0m \u001b[0;34m\"\\nAge \"\u001b[0m \u001b[0;34m+\u001b[0m \u001b[0mage\u001b[0m\u001b[0;34m\u001b[0m\u001b[0;34m\u001b[0m\u001b[0m\n\u001b[0m\u001b[1;32m      7\u001b[0m \u001b[0mprint\u001b[0m\u001b[0;34m(\u001b[0m\u001b[0mmessage\u001b[0m\u001b[0;34m)\u001b[0m\u001b[0;34m\u001b[0m\u001b[0;34m\u001b[0m\u001b[0m\n",
            "\u001b[0;31mTypeError\u001b[0m: can only concatenate str (not \"int\") to str"
          ]
        }
      ]
    },
    {
      "cell_type": "code",
      "source": [
        "name : str = \"Muhammad Qasim\"\n",
        "father_name : str = \"Muhammad Aslam\"\n",
        "age : int = 30\n",
        "education : str = \"MS in Data Science\"\n",
        "#                PIAIC student Card\\nName Muhammad Qasim\\nAge 30\n",
        "message : str = \"PIAIC student Card\\nName \" + name + \"\\nAge \" + str(age)\n",
        "print(message)"
      ],
      "metadata": {
        "colab": {
          "base_uri": "https://localhost:8080/"
        },
        "id": "UOBf0SS-xSPP",
        "outputId": "a4977dbc-975f-484e-85ce-5a3d7fbdcded"
      },
      "execution_count": null,
      "outputs": [
        {
          "output_type": "stream",
          "name": "stdout",
          "text": [
            "PIAIC student Card\n",
            "Name Muhammad Qasim\n",
            "Age 30\n"
          ]
        }
      ]
    },
    {
      "cell_type": "code",
      "source": [
        "name : str = \"Muhammad Qasim\"\n",
        "father_name : str = \"Muhammad Aslam\"\n",
        "age : int = 30\n",
        "education : str = \"MS in Data Science\"\n",
        "\n",
        "message : str = \"PIAIC Student Card\\nName: %s\\nFather: %s\\nAge: %d\\nEducation: %s\" % (name, father_name, age, education)\n",
        "print(message)\n",
        "#"
      ],
      "metadata": {
        "colab": {
          "base_uri": "https://localhost:8080/"
        },
        "id": "pTPFdU3kyYbP",
        "outputId": "b02ae382-ee6c-44df-f395-8e3023c91c71"
      },
      "execution_count": null,
      "outputs": [
        {
          "output_type": "stream",
          "name": "stdout",
          "text": [
            "PIAIC Student Card\n",
            "Name: Muhammad Qasim\n",
            "Father: Muhammad Aslam\n",
            "Age: 30\n",
            "Education: MS in Data Science\n"
          ]
        }
      ]
    },
    {
      "cell_type": "code",
      "source": [
        "name : str = \"Muhammad Qasim\"\n",
        "father_name : str = \"Muhammad Aslam\"\n",
        "age : int = 30\n",
        "education : str = \"MS in Data Science\"\n",
        "#                                          0           1        2             3            0     1         2      3\n",
        "message : str = \"PIAIC Student Card\\nName: {}\\nFather: {}\\nAge: {}\\nEducation: {}\".format(name,father_name,age, education)\n",
        "print(message)\n",
        "#"
      ],
      "metadata": {
        "colab": {
          "base_uri": "https://localhost:8080/"
        },
        "id": "8g1cjETBzENX",
        "outputId": "cd077bd1-5750-43aa-d072-733443fc5f15"
      },
      "execution_count": null,
      "outputs": [
        {
          "output_type": "stream",
          "name": "stdout",
          "text": [
            "PIAIC Student Card\n",
            "Name: Muhammad Qasim\n",
            "Father: Muhammad Aslam\n",
            "Age: 30\n",
            "Education: MS in Data Science\n"
          ]
        }
      ]
    },
    {
      "cell_type": "code",
      "source": [
        "name : str = \"Muhammad Qasim\"\n",
        "father_name : str = \"Muhammad Aslam\"\n",
        "age : int = 30\n",
        "education : str = \"MS in Data Science\"\n",
        "\n",
        "message : str = \"PIAIC Student Card\\nName: {}\\nFather: {}\\nAge: {}\\nEducation: {}\".format(age, name, father_name, education)\n",
        "print(message)\n",
        "#"
      ],
      "metadata": {
        "colab": {
          "base_uri": "https://localhost:8080/"
        },
        "id": "Iy2p8eB5zVRP",
        "outputId": "103da28d-4256-42c1-8420-9bd5f85d1f57"
      },
      "execution_count": null,
      "outputs": [
        {
          "output_type": "stream",
          "name": "stdout",
          "text": [
            "PIAIC Student Card\n",
            "Name: 30\n",
            "Father: Muhammad Qasim\n",
            "Age: Muhammad Aslam\n",
            "Education: MS in Data Science\n"
          ]
        }
      ]
    },
    {
      "cell_type": "code",
      "source": [
        "name : str = \"Muhammad Qasim\"\n",
        "father_name : str = \"Muhammad Aslam\"\n",
        "age : int = 30\n",
        "education : str = \"MS in Data Science\"\n",
        "#                                                                                              0     1       2             3\n",
        "message : str = \"PIAIC Student Card\\nName: {1}\\nFather: {2}\\nAge: {0}\\nEducation: {3}\".format(age, name, father_name, education)\n",
        "print(message)\n",
        "#"
      ],
      "metadata": {
        "colab": {
          "base_uri": "https://localhost:8080/"
        },
        "id": "Fv34j3djzo5P",
        "outputId": "db6d3fea-6996-4cb5-e2b9-11c9742f54de"
      },
      "execution_count": null,
      "outputs": [
        {
          "output_type": "stream",
          "name": "stdout",
          "text": [
            "PIAIC Student Card\n",
            "Name: Muhammad Qasim\n",
            "Father: Muhammad Aslam\n",
            "Age: 30\n",
            "Education: MS in Data Science\n"
          ]
        }
      ]
    },
    {
      "cell_type": "markdown",
      "source": [
        "# F-string"
      ],
      "metadata": {
        "id": "2HN4vbGf0GsF"
      }
    },
    {
      "cell_type": "code",
      "source": [
        "name : str = \"Muhammad Qasim\"\n",
        "father_name : str = \"Muhammad Aslam\"\n",
        "age : int = 30\n",
        "education : str = \"Master in Data Science\"\n",
        "\n",
        "message : str = f\"\"\"\n",
        "PIAIC ISLAMABAD BATCH3\n",
        "Name : {name}\n",
        "Father : {father_name}\n",
        "Age : {age}\n",
        "Education : {education}\n",
        "\"\"\"\n",
        "print(message)"
      ],
      "metadata": {
        "colab": {
          "base_uri": "https://localhost:8080/"
        },
        "id": "cPtC-xblz6hQ",
        "outputId": "c8200beb-dcf9-43f4-a05f-d94bc9b7cba9"
      },
      "execution_count": null,
      "outputs": [
        {
          "output_type": "stream",
          "name": "stdout",
          "text": [
            "\n",
            "PIAIC ISLAMABAD BATCH3\n",
            "Name : Muhammad Qasim\n",
            "Father : Muhammad Aslam\n",
            "Age : 30\n",
            "Education : Master in Data Science\n",
            "\n"
          ]
        }
      ]
    },
    {
      "cell_type": "markdown",
      "source": [
        "# Variable\n",
        "Exampe\n",
        "`variable_name = variable_value`<br>\n",
        "`student_name = \"Muhammad Qasim\"`\n",
        "1. variable name(student_name)\n",
        "2. assign operator(=)\n",
        "3. variable value (\"MUhammad Qasim\")\n",
        "4. variable data type\n",
        "  * str\n",
        "  * int\n",
        "  * bool\n",
        "  * float\n",
        "  * list\n",
        "  * tuple\n",
        "  * set\n",
        "  * dictionry\n"
      ],
      "metadata": {
        "id": "eE_e9hzX2MUQ"
      }
    },
    {
      "cell_type": "code",
      "source": [],
      "metadata": {
        "id": "J5VFKMyn8SLt"
      },
      "execution_count": null,
      "outputs": []
    },
    {
      "cell_type": "code",
      "source": [
        "# prompt: write code for get all string methods exclude attributes\n",
        "\n",
        "string_methods = [method for method in dir(str) if callable(getattr(str, method)) and not method.startswith(\"__\")]\n",
        "string_methods"
      ],
      "metadata": {
        "colab": {
          "base_uri": "https://localhost:8080/"
        },
        "id": "buE7xKwf0ZIj",
        "outputId": "4a52ec59-5bb7-45f6-b3ea-6a91a438f330"
      },
      "execution_count": null,
      "outputs": [
        {
          "output_type": "execute_result",
          "data": {
            "text/plain": [
              "['capitalize',\n",
              " 'casefold',\n",
              " 'center',\n",
              " 'count',\n",
              " 'encode',\n",
              " 'endswith',\n",
              " 'expandtabs',\n",
              " 'find',\n",
              " 'format',\n",
              " 'format_map',\n",
              " 'index',\n",
              " 'isalnum',\n",
              " 'isalpha',\n",
              " 'isascii',\n",
              " 'isdecimal',\n",
              " 'isdigit',\n",
              " 'isidentifier',\n",
              " 'islower',\n",
              " 'isnumeric',\n",
              " 'isprintable',\n",
              " 'isspace',\n",
              " 'istitle',\n",
              " 'isupper',\n",
              " 'join',\n",
              " 'ljust',\n",
              " 'lower',\n",
              " 'lstrip',\n",
              " 'maketrans',\n",
              " 'partition',\n",
              " 'removeprefix',\n",
              " 'removesuffix',\n",
              " 'replace',\n",
              " 'rfind',\n",
              " 'rindex',\n",
              " 'rjust',\n",
              " 'rpartition',\n",
              " 'rsplit',\n",
              " 'rstrip',\n",
              " 'split',\n",
              " 'splitlines',\n",
              " 'startswith',\n",
              " 'strip',\n",
              " 'swapcase',\n",
              " 'title',\n",
              " 'translate',\n",
              " 'upper',\n",
              " 'zfill']"
            ]
          },
          "metadata": {},
          "execution_count": 25
        }
      ]
    },
    {
      "cell_type": "code",
      "source": [
        "string_methods = [method for method in dir(int) if callable(getattr(int, method)) and not method.startswith(\"__\")]\n",
        "string_methods"
      ],
      "metadata": {
        "colab": {
          "base_uri": "https://localhost:8080/"
        },
        "id": "KO9a4UWn4K-m",
        "outputId": "4906ccb5-9ec7-438c-8252-cc91cdadc434"
      },
      "execution_count": null,
      "outputs": [
        {
          "output_type": "execute_result",
          "data": {
            "text/plain": [
              "['as_integer_ratio',\n",
              " 'bit_count',\n",
              " 'bit_length',\n",
              " 'conjugate',\n",
              " 'from_bytes',\n",
              " 'to_bytes']"
            ]
          },
          "metadata": {},
          "execution_count": 27
        }
      ]
    },
    {
      "cell_type": "code",
      "source": [
        "string_methods = [method for method in dir(list) if callable(getattr(list, method)) and not method.startswith(\"__\")]\n",
        "string_methods"
      ],
      "metadata": {
        "id": "glpFEY9L4fav",
        "colab": {
          "base_uri": "https://localhost:8080/"
        },
        "outputId": "153f45de-82de-480d-9133-4d510421ad51"
      },
      "execution_count": null,
      "outputs": [
        {
          "output_type": "execute_result",
          "data": {
            "text/plain": [
              "['append',\n",
              " 'clear',\n",
              " 'copy',\n",
              " 'count',\n",
              " 'extend',\n",
              " 'index',\n",
              " 'insert',\n",
              " 'pop',\n",
              " 'remove',\n",
              " 'reverse',\n",
              " 'sort']"
            ]
          },
          "metadata": {},
          "execution_count": 28
        }
      ]
    },
    {
      "cell_type": "code",
      "source": [
        "print(11%2)"
      ],
      "metadata": {
        "colab": {
          "base_uri": "https://localhost:8080/"
        },
        "id": "oPkmkhPy8h4M",
        "outputId": "cb43c32e-0567-438a-d723-b9abd9af5272"
      },
      "execution_count": null,
      "outputs": [
        {
          "output_type": "stream",
          "name": "stdout",
          "text": [
            "1\n"
          ]
        }
      ]
    },
    {
      "cell_type": "code",
      "source": [
        "print(11//2)"
      ],
      "metadata": {
        "colab": {
          "base_uri": "https://localhost:8080/"
        },
        "id": "LaNd-dG68m7O",
        "outputId": "b489ad3f-df5a-4dee-93db-f8077bbab0e2"
      },
      "execution_count": null,
      "outputs": [
        {
          "output_type": "stream",
          "name": "stdout",
          "text": [
            "5\n"
          ]
        }
      ]
    },
    {
      "cell_type": "code",
      "source": [
        "2 ** 3"
      ],
      "metadata": {
        "colab": {
          "base_uri": "https://localhost:8080/"
        },
        "id": "kapB_jv18sR5",
        "outputId": "14fc99bb-d7d9-4a11-f050-dbd8d8909abc"
      },
      "execution_count": null,
      "outputs": [
        {
          "output_type": "execute_result",
          "data": {
            "text/plain": [
              "8"
            ]
          },
          "metadata": {},
          "execution_count": 31
        }
      ]
    },
    {
      "cell_type": "code",
      "source": [],
      "metadata": {
        "id": "R_jx63YY8uxV"
      },
      "execution_count": null,
      "outputs": []
    },
    {
      "cell_type": "code",
      "source": [
        "print(2 + 4 - 2 * 2 / 2 % 2 // 2 ** 2)"
      ],
      "metadata": {
        "colab": {
          "base_uri": "https://localhost:8080/"
        },
        "id": "Ay3xLi6X426i",
        "outputId": "9757f448-0fb4-439e-ade6-09e02e2c2e7a"
      },
      "execution_count": null,
      "outputs": [
        {
          "output_type": "stream",
          "name": "stdout",
          "text": [
            "6.0\n"
          ]
        }
      ]
    },
    {
      "cell_type": "markdown",
      "source": [
        "# Assign operator"
      ],
      "metadata": {
        "id": "BaJW9q7_9gXc"
      }
    },
    {
      "cell_type": "code",
      "source": [
        "\"Qasim\" == \"Qasim\""
      ],
      "metadata": {
        "colab": {
          "base_uri": "https://localhost:8080/"
        },
        "id": "rnUDrTox9hsE",
        "outputId": "cd1d4f49-8d1a-4b69-b165-e2b83bb8f207"
      },
      "execution_count": null,
      "outputs": [
        {
          "output_type": "execute_result",
          "data": {
            "text/plain": [
              "True"
            ]
          },
          "metadata": {},
          "execution_count": 34
        }
      ]
    },
    {
      "cell_type": "code",
      "source": [
        "5 == 5"
      ],
      "metadata": {
        "colab": {
          "base_uri": "https://localhost:8080/"
        },
        "id": "Ga9fu0R_-CLV",
        "outputId": "9b1399b2-8244-45e6-ba7d-09868d2be689"
      },
      "execution_count": null,
      "outputs": [
        {
          "output_type": "execute_result",
          "data": {
            "text/plain": [
              "True"
            ]
          },
          "metadata": {},
          "execution_count": 35
        }
      ]
    },
    {
      "cell_type": "code",
      "source": [
        "5 > 3"
      ],
      "metadata": {
        "colab": {
          "base_uri": "https://localhost:8080/"
        },
        "id": "nGEGCYkO-Gge",
        "outputId": "bc041896-f37c-496a-e9d6-f4d88e0413c4"
      },
      "execution_count": null,
      "outputs": [
        {
          "output_type": "execute_result",
          "data": {
            "text/plain": [
              "True"
            ]
          },
          "metadata": {},
          "execution_count": 36
        }
      ]
    },
    {
      "cell_type": "code",
      "source": [
        "True and True and True"
      ],
      "metadata": {
        "colab": {
          "base_uri": "https://localhost:8080/"
        },
        "id": "2A2LTwvg-KsD",
        "outputId": "0b378cfb-c8c5-4759-82d2-baf51eb5fdee"
      },
      "execution_count": null,
      "outputs": [
        {
          "output_type": "execute_result",
          "data": {
            "text/plain": [
              "True"
            ]
          },
          "metadata": {},
          "execution_count": 38
        }
      ]
    },
    {
      "cell_type": "code",
      "source": [
        "True or True or False"
      ],
      "metadata": {
        "colab": {
          "base_uri": "https://localhost:8080/"
        },
        "id": "0DUchEi2-xPx",
        "outputId": "dcb56fca-39cf-431e-af65-1470330fde4e"
      },
      "execution_count": null,
      "outputs": [
        {
          "output_type": "execute_result",
          "data": {
            "text/plain": [
              "True"
            ]
          },
          "metadata": {},
          "execution_count": 39
        }
      ]
    },
    {
      "cell_type": "code",
      "source": [
        "not True"
      ],
      "metadata": {
        "colab": {
          "base_uri": "https://localhost:8080/"
        },
        "id": "bEStdELz-2db",
        "outputId": "b9514a5c-ed35-4ec2-89f0-93f50dfd8b54"
      },
      "execution_count": null,
      "outputs": [
        {
          "output_type": "execute_result",
          "data": {
            "text/plain": [
              "False"
            ]
          },
          "metadata": {},
          "execution_count": 40
        }
      ]
    },
    {
      "cell_type": "code",
      "source": [
        "a = \"qasim\"\n",
        "b = \"qasim\"\n",
        "c = \"qasim\"\n",
        "\n",
        "print(a is b)\n",
        "print(a is c)"
      ],
      "metadata": {
        "colab": {
          "base_uri": "https://localhost:8080/"
        },
        "id": "f2pg7is0-5s5",
        "outputId": "8cc22199-c719-4968-c723-52fd1cc4e160"
      },
      "execution_count": null,
      "outputs": [
        {
          "output_type": "stream",
          "name": "stdout",
          "text": [
            "True\n",
            "True\n"
          ]
        }
      ]
    },
    {
      "cell_type": "code",
      "source": [
        "print(id(a))\n",
        "print(id(b))\n",
        "print(id(c))"
      ],
      "metadata": {
        "colab": {
          "base_uri": "https://localhost:8080/"
        },
        "id": "VYV4WAGe_q17",
        "outputId": "4ab29c6e-e077-480d-c572-67333b57f3ce"
      },
      "execution_count": null,
      "outputs": [
        {
          "output_type": "stream",
          "name": "stdout",
          "text": [
            "135344144196144\n",
            "135344144196144\n",
            "135344144196144\n"
          ]
        }
      ]
    },
    {
      "cell_type": "code",
      "source": [
        "print(id(a) == id(b))\n",
        "print(id(a) == id(c))\n"
      ],
      "metadata": {
        "colab": {
          "base_uri": "https://localhost:8080/"
        },
        "id": "katzc9cv_TPj",
        "outputId": "53354428-db9c-417d-aeed-f2f9334936da"
      },
      "execution_count": null,
      "outputs": [
        {
          "output_type": "stream",
          "name": "stdout",
          "text": [
            "True\n",
            "True\n"
          ]
        }
      ]
    },
    {
      "cell_type": "code",
      "source": [
        "data = \"\"\"\n",
        "Pakistan hello world\n",
        "Qasim Aslam\n",
        "\"\"\"\n",
        "\n",
        "'Qasim Aslam' in data"
      ],
      "metadata": {
        "colab": {
          "base_uri": "https://localhost:8080/"
        },
        "id": "yY6u-oPl_5xZ",
        "outputId": "2d4ab138-450a-4e68-f0b1-7a1b01e3df1e"
      },
      "execution_count": null,
      "outputs": [
        {
          "output_type": "execute_result",
          "data": {
            "text/plain": [
              "True"
            ]
          },
          "metadata": {},
          "execution_count": 45
        }
      ]
    },
    {
      "cell_type": "code",
      "source": [
        "names : list[str] = [\"Qasim\",\"Najam\",\"Arif\",\"Asif\"]\n",
        "\n",
        "'Arif' in names"
      ],
      "metadata": {
        "colab": {
          "base_uri": "https://localhost:8080/"
        },
        "id": "03Tz6znCAIiH",
        "outputId": "60d219eb-9239-40fd-9449-6b3bf53fff39"
      },
      "execution_count": null,
      "outputs": [
        {
          "output_type": "execute_result",
          "data": {
            "text/plain": [
              "True"
            ]
          },
          "metadata": {},
          "execution_count": 46
        }
      ]
    },
    {
      "cell_type": "code",
      "source": [
        "names : list[str] = [\"Qasim\",\"Najam\",\"Arif\",\"Asif\"]\n",
        "\n",
        "i = 0\n",
        "while i < len(names):\n",
        "  if names[i] ==':\n",
        "    print(True)\n",
        "    break\n",
        "  i += 1"
      ],
      "metadata": {
        "colab": {
          "base_uri": "https://localhost:8080/"
        },
        "id": "A4f5QuPMAc50",
        "outputId": "95b50a1e-90c3-4df8-b7e9-515fd29b6c81"
      },
      "execution_count": null,
      "outputs": [
        {
          "output_type": "stream",
          "name": "stdout",
          "text": [
            "True\n"
          ]
        }
      ]
    },
    {
      "cell_type": "code",
      "source": [],
      "metadata": {
        "id": "_mIeQ3beAofB"
      },
      "execution_count": null,
      "outputs": []
    }
  ]
}