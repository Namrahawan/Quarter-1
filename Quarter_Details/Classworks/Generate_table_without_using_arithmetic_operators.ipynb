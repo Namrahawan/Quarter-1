{
  "nbformat": 4,
  "nbformat_minor": 0,
  "metadata": {
    "colab": {
      "provenance": []
    },
    "kernelspec": {
      "name": "python3",
      "display_name": "Python 3"
    },
    "language_info": {
      "name": "python"
    }
  },
  "cells": [
    {
      "cell_type": "code",
      "execution_count": null,
      "metadata": {
        "colab": {
          "base_uri": "https://localhost:8080/"
        },
        "id": "DdePRiJxrEL8",
        "outputId": "5c04be7b-9c8c-433a-cb0d-e4bc3d947ee8"
      },
      "outputs": [
        {
          "output_type": "stream",
          "name": "stdout",
          "text": [
            "5 x 1 = 5\n",
            "5 x 2 = 10\n",
            "5 x 3 = 15\n",
            "5 x 4 = 20\n",
            "5 x 5 = 25\n",
            "5 x 6 = 30\n",
            "5 x 7 = 35\n",
            "5 x 8 = 40\n",
            "5 x 9 = 45\n",
            "5 x 10 = 50\n"
          ]
        }
      ],
      "source": [
        "table_of = 5\n",
        "x = range(table_of, 100, table_of)\n",
        "counter = 1\n",
        "\n",
        "for n in x:\n",
        "  if counter > 10:\n",
        "    break\n",
        "\n",
        "  print(f\"{table_of} x {counter} = {n}\")\n",
        "  counter += 1"
      ]
    }
  ]
}