{
  "nbformat": 4,
  "nbformat_minor": 0,
  "metadata": {
    "colab": {
      "provenance": []
    },
    "kernelspec": {
      "name": "python3",
      "display_name": "Python 3"
    },
    "language_info": {
      "name": "python"
    }
  },
  "cells": [
    {
      "cell_type": "code",
      "execution_count": null,
      "metadata": {
        "colab": {
          "base_uri": "https://localhost:8080/"
        },
        "id": "JOPksdywshmY",
        "outputId": "11593611-eabc-4989-b7ef-83914b869439"
      },
      "outputs": [
        {
          "output_type": "stream",
          "name": "stdout",
          "text": [
            "{'name': 'Hamzah', 'isMarried': True, 'address': {'line1': 'xyz street', 'city': 'Karachi', 'country': 'Pakistan'}, 'skills': ['python', 'java', 'c++', 'typescript']}\n"
          ]
        }
      ],
      "source": [
        "user1 = {\n",
        "    \"name\": \"Hamzah\",\n",
        "    \"age\": 20,\n",
        "    \"isMarried\": True,\n",
        "    \"address\": {\n",
        "        \"line1\": \"xyz street\",\n",
        "        \"city\": \"Karachi\",\n",
        "        \"country\": \"Pakistan\"\n",
        "    },\n",
        "    \"skills\": [\"python\", \"java\", \"c++\", \"typescript\"]\n",
        "}\n",
        "\n",
        "# del user1[\"age\"]\n",
        "user1[\"height\"] = 6\n",
        "\n",
        "print(user1[\"height\"])\n",
        "\n"
      ]
    },
    {
      "cell_type": "code",
      "source": [
        "countdown = 10\n",
        "\n",
        "print( f\"{countdown}...\" )\n",
        "countdown -= 1 # 9\n",
        "\n",
        "print( f\"{countdown}...\" )\n",
        "countdown -= 1 # 8\n",
        "\n",
        "print( f\"{countdown}...\" )\n",
        "countdown -= 1 # 7\n",
        "\n"
      ],
      "metadata": {
        "colab": {
          "base_uri": "https://localhost:8080/"
        },
        "id": "YbLKvmzY36lC",
        "outputId": "23f4dd29-a994-470c-8601-b95537907b10"
      },
      "execution_count": null,
      "outputs": [
        {
          "output_type": "stream",
          "name": "stdout",
          "text": [
            "10...\n",
            "9...\n",
            "8...\n"
          ]
        }
      ]
    },
    {
      "cell_type": "code",
      "source": [
        "count = 1\n",
        "\n",
        "while count <= 10 :\n",
        "  print(f\"{count}...\")\n",
        "  count += 1\n"
      ],
      "metadata": {
        "colab": {
          "base_uri": "https://localhost:8080/"
        },
        "id": "EUBz_eSt5tAu",
        "outputId": "5450d0d9-2067-4bac-c093-63579a59fe88"
      },
      "execution_count": null,
      "outputs": [
        {
          "output_type": "stream",
          "name": "stdout",
          "text": [
            "1...\n",
            "2...\n",
            "3...\n",
            "4...\n",
            "5...\n",
            "6...\n",
            "7...\n",
            "8...\n",
            "9...\n",
            "10...\n"
          ]
        }
      ]
    },
    {
      "cell_type": "code",
      "source": [
        "fruits = [\"Mango\", \"Orange\", \"Banana\"]\n",
        "\n",
        "for fru in fruits:\n",
        "  print( f\" I like {fru}\" )\n",
        "\n"
      ],
      "metadata": {
        "colab": {
          "base_uri": "https://localhost:8080/"
        },
        "id": "zaq6wFRSCqNb",
        "outputId": "cfdbcc49-4b1d-4b32-da89-b62c57e8cc43"
      },
      "execution_count": null,
      "outputs": [
        {
          "output_type": "stream",
          "name": "stdout",
          "text": [
            " I like Mango\n",
            " I like Orange\n",
            " I like Banana\n"
          ]
        }
      ]
    },
    {
      "cell_type": "code",
      "source": [
        "user1 = {\n",
        "    \"name\": \"Hamzah\",\n",
        "    \"age\": 20,\n",
        "    \"isMarried\": True,\n",
        "    \"address\": {\n",
        "        \"line1\": \"xyz street\",\n",
        "        \"city\": \"Karachi\",\n",
        "        \"country\": \"Pakistan\"\n",
        "    },\n",
        "    \"skills\": [\"python\", \"java\", \"c++\", \"typescript\"]\n",
        "}\n",
        "\n",
        "for skill in user1[\"skills\"]:\n",
        "  print(f\"I know {skill}\")\n"
      ],
      "metadata": {
        "colab": {
          "base_uri": "https://localhost:8080/"
        },
        "id": "o-eMrDJlFZRD",
        "outputId": "1783f698-1498-4500-8323-cf5068b1f21b"
      },
      "execution_count": null,
      "outputs": [
        {
          "output_type": "stream",
          "name": "stdout",
          "text": [
            "I know python\n",
            "I know java\n",
            "I know c++\n",
            "I know typescript\n"
          ]
        }
      ]
    },
    {
      "cell_type": "code",
      "source": [
        "# prompt: create an enrollement card with good styling without a template for the institute named PIAIC. IN THE CARD YOU NEED TO INCLUDE name, rollnumber, batch which is 66. you should print the image\n",
        "\n",
        "from PIL import Image, ImageDraw, ImageFont\n",
        "\n",
        "def create_enrollment_card(name, roll_number):\n",
        "    # Create a new image with a white background\n",
        "    img = Image.new(\"RGB\", (600, 400), color = \"white\")\n",
        "    d1 = ImageDraw.Draw(img)\n",
        "\n",
        "    # Load a font (you'll need to have a font file in the same directory or specify the full path)\n",
        "    try:\n",
        "        font = ImageFont.truetype(\"arial.ttf\", size=30) # Replace \"arial.ttf\" with your font file\n",
        "    except IOError:\n",
        "        font = ImageFont.load_default()  # Use a default font if the specified font is not found\n",
        "\n",
        "    # Add text to the image\n",
        "    d1.text((50, 50), \"PIAIC Enrollment Card\", fill=(0, 0, 0), font=font)\n",
        "    d1.text((50, 100), f\"Name: {name}\", fill=(0, 0, 0), font=font)\n",
        "    d1.text((50, 150), f\"Roll Number: {roll_number}\", fill=(0, 0, 0), font=font)\n",
        "    d1.text((50, 200), \"Batch: 66\", fill=(0, 0, 0), font=font)\n",
        "\n",
        "\n",
        "    # Save the image\n",
        "    img.save(\"enrollment_card.png\")\n",
        "    print(\"Enrollment card created successfully!\")\n",
        "\n",
        "    # Display the image (optional)\n",
        "    img.show()\n",
        "\n",
        "\n",
        "# Example usage\n",
        "create_enrollment_card(\"Your Name\", \"Your Roll Number\")"
      ],
      "metadata": {
        "colab": {
          "base_uri": "https://localhost:8080/"
        },
        "id": "kYfztEPsN8_W",
        "outputId": "c5de9945-623d-4d8e-ed75-8bc4fcccbad9"
      },
      "execution_count": null,
      "outputs": [
        {
          "output_type": "stream",
          "name": "stdout",
          "text": [
            "Enrollment card created successfully!\n"
          ]
        }
      ]
    },
    {
      "cell_type": "code",
      "source": [
        "!pip install google-genai"
      ],
      "metadata": {
        "colab": {
          "base_uri": "https://localhost:8080/"
        },
        "id": "h3iAJL3sRYeC",
        "outputId": "f7fe9d0b-e057-4677-c9ec-86b3ccc06982"
      },
      "execution_count": null,
      "outputs": [
        {
          "output_type": "stream",
          "name": "stdout",
          "text": [
            "Requirement already satisfied: google-genai in /usr/local/lib/python3.11/dist-packages (0.3.0)\n",
            "Requirement already satisfied: google-auth<3.0.0dev,>=2.14.1 in /usr/local/lib/python3.11/dist-packages (from google-genai) (2.27.0)\n",
            "Requirement already satisfied: pillow<12.0.0,>=10.0.0 in /usr/local/lib/python3.11/dist-packages (from google-genai) (11.1.0)\n",
            "Requirement already satisfied: pydantic<3.0.0dev,>=2.0.0 in /usr/local/lib/python3.11/dist-packages (from google-genai) (2.10.5)\n",
            "Requirement already satisfied: requests<3.0.0dev,>=2.28.1 in /usr/local/lib/python3.11/dist-packages (from google-genai) (2.32.3)\n",
            "Requirement already satisfied: websockets<15.0dev,>=13.0 in /usr/local/lib/python3.11/dist-packages (from google-genai) (14.2)\n",
            "Requirement already satisfied: cachetools<6.0,>=2.0.0 in /usr/local/lib/python3.11/dist-packages (from google-auth<3.0.0dev,>=2.14.1->google-genai) (5.5.1)\n",
            "Requirement already satisfied: pyasn1-modules>=0.2.1 in /usr/local/lib/python3.11/dist-packages (from google-auth<3.0.0dev,>=2.14.1->google-genai) (0.4.1)\n",
            "Requirement already satisfied: rsa<5,>=3.1.4 in /usr/local/lib/python3.11/dist-packages (from google-auth<3.0.0dev,>=2.14.1->google-genai) (4.9)\n",
            "Requirement already satisfied: annotated-types>=0.6.0 in /usr/local/lib/python3.11/dist-packages (from pydantic<3.0.0dev,>=2.0.0->google-genai) (0.7.0)\n",
            "Requirement already satisfied: pydantic-core==2.27.2 in /usr/local/lib/python3.11/dist-packages (from pydantic<3.0.0dev,>=2.0.0->google-genai) (2.27.2)\n",
            "Requirement already satisfied: typing-extensions>=4.12.2 in /usr/local/lib/python3.11/dist-packages (from pydantic<3.0.0dev,>=2.0.0->google-genai) (4.12.2)\n",
            "Requirement already satisfied: charset-normalizer<4,>=2 in /usr/local/lib/python3.11/dist-packages (from requests<3.0.0dev,>=2.28.1->google-genai) (3.4.1)\n",
            "Requirement already satisfied: idna<4,>=2.5 in /usr/local/lib/python3.11/dist-packages (from requests<3.0.0dev,>=2.28.1->google-genai) (3.10)\n",
            "Requirement already satisfied: urllib3<3,>=1.21.1 in /usr/local/lib/python3.11/dist-packages (from requests<3.0.0dev,>=2.28.1->google-genai) (2.3.0)\n",
            "Requirement already satisfied: certifi>=2017.4.17 in /usr/local/lib/python3.11/dist-packages (from requests<3.0.0dev,>=2.28.1->google-genai) (2024.12.14)\n",
            "Requirement already satisfied: pyasn1<0.7.0,>=0.4.6 in /usr/local/lib/python3.11/dist-packages (from pyasn1-modules>=0.2.1->google-auth<3.0.0dev,>=2.14.1->google-genai) (0.6.1)\n"
          ]
        }
      ]
    },
    {
      "cell_type": "code",
      "source": [
        "from google.colab import userdata\n",
        "\n",
        "api_key  = userdata.get('GEMINI_API_KEY')"
      ],
      "metadata": {
        "id": "6OnIIeQDVmq8"
      },
      "execution_count": null,
      "outputs": []
    },
    {
      "cell_type": "code",
      "source": [
        "from google import genai\n",
        "\n",
        "client = genai.Client(api_key=api_key)\n",
        "\n",
        "response = client.models.generate_content(\n",
        "    model=\"gemini-2.0-flash-exp\",\n",
        "    contents='What is Ai'\n",
        ")\n",
        "\n",
        "print(response.text)\n"
      ],
      "metadata": {
        "colab": {
          "base_uri": "https://localhost:8080/"
        },
        "id": "anMAnkBaWsEJ",
        "outputId": "f21d202f-f823-48a4-f44b-9adccde7713b"
      },
      "execution_count": null,
      "outputs": [
        {
          "output_type": "stream",
          "name": "stdout",
          "text": [
            "AI, or Artificial Intelligence, is a broad field encompassing the development of computer systems able to perform tasks that typically require human intelligence.  These tasks include things like:\n",
            "\n",
            "* **Learning:** Acquiring information and rules for using the information.\n",
            "* **Reasoning:** Using rules to reach approximate or definite conclusions.\n",
            "* **Problem-solving:**  Finding solutions to complex situations.\n",
            "* **Perception:** Interpreting sensory information like images, sound, and text.\n",
            "* **Language understanding:** Processing and generating human language.\n",
            "\n",
            "There are different approaches to AI, including:\n",
            "\n",
            "* **Machine Learning (ML):**  Algorithms that allow systems to learn from data without explicit programming.  This is a very common and powerful approach used in many AI applications.\n",
            "* **Deep Learning (DL):** A subset of machine learning that uses artificial neural networks with multiple layers to analyze data.  This is particularly good at handling complex, unstructured data like images and speech.\n",
            "* **Natural Language Processing (NLP):**  Focuses on enabling computers to understand, interpret, and generate human language.\n",
            "* **Computer Vision:**  Enables computers to \"see\" and interpret images and videos.\n",
            "* **Robotics:**  Combines AI with physical robots to perform tasks in the real world.\n",
            "\n",
            "It's important to note that AI is a constantly evolving field.  What was considered advanced AI just a few years ago might be commonplace today.  The term \"AI\" is also often used loosely, and some systems labeled as AI might only use relatively simple algorithms.  True general-purpose AI, capable of human-level intelligence across a wide range of tasks, remains a long-term goal.\n",
            "\n"
          ]
        }
      ]
    }
  ]
}