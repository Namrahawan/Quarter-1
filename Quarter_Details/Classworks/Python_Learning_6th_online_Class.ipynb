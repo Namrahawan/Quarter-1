{
  "nbformat": 4,
  "nbformat_minor": 0,
  "metadata": {
    "colab": {
      "provenance": []
    },
    "kernelspec": {
      "name": "python3",
      "display_name": "Python 3"
    },
    "language_info": {
      "name": "python"
    }
  },
  "cells": [
    {
      "cell_type": "markdown",
      "source": [
        "# What is function"
      ],
      "metadata": {
        "id": "8KTctmigWDpG"
      }
    },
    {
      "cell_type": "code",
      "execution_count": null,
      "metadata": {
        "colab": {
          "base_uri": "https://localhost:8080/"
        },
        "id": "-CjZ5LNbUJhZ",
        "outputId": "3494bb50-63a3-4783-f9df-4438ede4ea32"
      },
      "outputs": [
        {
          "output_type": "stream",
          "name": "stdout",
          "text": [
            "Hello World\n"
          ]
        }
      ],
      "source": [
        "# Lets Greet\n",
        "print(\"Hello Person\")\n",
        "\n",
        "# Why we use functoins?\n",
        "# Because it saves us repetition.\n",
        "# Becaue help us organize our code.\n",
        "\n",
        "# Syntax\n",
        "def function_name(parameter):\n",
        "  # code block\n",
        "  return value"
      ]
    },
    {
      "cell_type": "markdown",
      "source": [
        "# Lets Greet through Function"
      ],
      "metadata": {
        "id": "6EZw1uEnWIeX"
      }
    },
    {
      "cell_type": "code",
      "source": [
        "def greet():\n",
        "  # Block of code\n",
        "  print(\"Hello Person\")\n",
        "\n",
        "\n",
        "# Calling the function\n",
        "greet()"
      ],
      "metadata": {
        "colab": {
          "base_uri": "https://localhost:8080/"
        },
        "id": "V3V1SJ88X1X7",
        "outputId": "aee2e170-f86f-4404-b55c-ddc6a4772cd3"
      },
      "execution_count": null,
      "outputs": [
        {
          "output_type": "stream",
          "name": "stdout",
          "text": [
            "Hello Person\n"
          ]
        }
      ]
    },
    {
      "cell_type": "markdown",
      "source": [
        "# Let's create a function with parameter"
      ],
      "metadata": {
        "id": "5w6VjmC7ZEBn"
      }
    },
    {
      "cell_type": "code",
      "source": [
        "def greet(name):\n",
        "  # Block of code\n",
        "  print(f\"Hello {name}\")\n",
        "\n",
        "\n",
        "# Let's call the funciton with a parameter\n",
        "# greet(\"Umaima\")\n",
        "# greet(\"Huzaifa\")\n",
        "greet()"
      ],
      "metadata": {
        "colab": {
          "base_uri": "https://localhost:8080/",
          "height": 176
        },
        "id": "2G--1w_jZQFa",
        "outputId": "2289d718-3fac-43f0-9a80-8dda8871939d"
      },
      "execution_count": null,
      "outputs": [
        {
          "output_type": "error",
          "ename": "TypeError",
          "evalue": "greet() missing 1 required positional argument: 'name'",
          "traceback": [
            "\u001b[0;31m---------------------------------------------------------------------------\u001b[0m",
            "\u001b[0;31mTypeError\u001b[0m                                 Traceback (most recent call last)",
            "\u001b[0;32m<ipython-input-22-db8609575e2f>\u001b[0m in \u001b[0;36m<cell line: 9>\u001b[0;34m()\u001b[0m\n\u001b[1;32m      7\u001b[0m \u001b[0;31m# greet(\"Umaima\")\u001b[0m\u001b[0;34m\u001b[0m\u001b[0;34m\u001b[0m\u001b[0m\n\u001b[1;32m      8\u001b[0m \u001b[0;31m# greet(\"Huzaifa\")\u001b[0m\u001b[0;34m\u001b[0m\u001b[0;34m\u001b[0m\u001b[0m\n\u001b[0;32m----> 9\u001b[0;31m \u001b[0mgreet\u001b[0m\u001b[0;34m(\u001b[0m\u001b[0;34m)\u001b[0m\u001b[0;34m\u001b[0m\u001b[0;34m\u001b[0m\u001b[0m\n\u001b[0m",
            "\u001b[0;31mTypeError\u001b[0m: greet() missing 1 required positional argument: 'name'"
          ]
        }
      ]
    },
    {
      "cell_type": "markdown",
      "source": [
        "# Lets create a function with Return Value"
      ],
      "metadata": {
        "id": "5YfwGCsXaa_L"
      }
    },
    {
      "cell_type": "code",
      "source": [
        "def add_two(a , b):\n",
        "  # Block of code\n",
        "  c = a + b\n",
        "  return c\n",
        "\n",
        "add_two(1,2)"
      ],
      "metadata": {
        "colab": {
          "base_uri": "https://localhost:8080/"
        },
        "id": "2SBETa01Zy6d",
        "outputId": "fd2fa17c-fc0e-4ee8-b801-40a8d074946e"
      },
      "execution_count": null,
      "outputs": [
        {
          "output_type": "execute_result",
          "data": {
            "text/plain": [
              "3"
            ]
          },
          "metadata": {},
          "execution_count": 21
        }
      ]
    },
    {
      "cell_type": "markdown",
      "source": [
        "# Define Default Parameters"
      ],
      "metadata": {
        "id": "wyyLPRGcdfPQ"
      }
    },
    {
      "cell_type": "code",
      "source": [
        "def greet_with_default(name = \"Guest\"):\n",
        "  print(f\"Hello {name}\")\n",
        "\n",
        "# Lets call the function\n",
        "greet_with_default(\"Hamza\")\n",
        "\n",
        "\n",
        "\n",
        "def add_two(a = 10, b = 20):\n",
        "  # Block of code\n",
        "  c = a + b\n",
        "  return c\n",
        "\n",
        "add_two(99,99)"
      ],
      "metadata": {
        "colab": {
          "base_uri": "https://localhost:8080/"
        },
        "id": "YEHQ_t6ObFOk",
        "outputId": "15e385a5-67b2-4fcd-d11a-e48c58c7a3fa"
      },
      "execution_count": null,
      "outputs": [
        {
          "output_type": "stream",
          "name": "stdout",
          "text": [
            "Hello Hamza\n"
          ]
        },
        {
          "output_type": "execute_result",
          "data": {
            "text/plain": [
              "198"
            ]
          },
          "metadata": {},
          "execution_count": 29
        }
      ]
    },
    {
      "cell_type": "markdown",
      "source": [
        "# Home Assignment"
      ],
      "metadata": {
        "id": "g9Tf5egkfA7r"
      }
    },
    {
      "cell_type": "code",
      "source": [
        "def calculator(a, b, operation):\n",
        "    if operation == \"add\":\n",
        "        return a + b\n",
        "        #\n",
        "        #\n",
        "        #\n",
        "        #\n",
        "        #\n",
        "        #\n",
        "    else:\n",
        "        return \"Invalid operation\"\n",
        "\n",
        "# Using the function\n",
        "print(calculator(10, 5, \"add\"))       # Output: 15\n",
        "print(calculator(10, 5, \"subtract\"))  # Output: 5\n",
        "print(calculator(10, 5, \"multiply\"))  # Output: 50\n",
        "print(calculator(10, 5, \"divide\"))    # Output: 2.0"
      ],
      "metadata": {
        "id": "KbCxpdFbefWc"
      },
      "execution_count": null,
      "outputs": []
    },
    {
      "cell_type": "code",
      "source": [
        "print(\"Step 1: Boil Water\")\n",
        "print(\"Step 2: Add Milk\")\n",
        "print(\"Step 3: Add patti\")\n",
        "print(\"Step 4: Serve tea\")\n",
        "tea1 = \"☕\"\n",
        "\n"
      ],
      "metadata": {
        "colab": {
          "base_uri": "https://localhost:8080/"
        },
        "id": "ksuQk3t-g4fn",
        "outputId": "34fbdec8-4bb9-4790-ba3a-83589984f909"
      },
      "execution_count": null,
      "outputs": [
        {
          "output_type": "stream",
          "name": "stdout",
          "text": [
            "Step 1: Boil Water\n",
            "Step 2: Add Milk\n",
            "Step 3: Add patti\n",
            "Step 4: Serve tea\n"
          ]
        }
      ]
    },
    {
      "cell_type": "code",
      "source": [
        "print(\"Step 1: Boil Water\")\n",
        "print(\"Step 2: Add Milk\")\n",
        "print(\"Step 3: Add patti\")\n",
        "print(\"Step 4: Serve tea\")\n",
        "tea2 = \"☕\"\n"
      ],
      "metadata": {
        "id": "c78oXI61hoBr"
      },
      "execution_count": null,
      "outputs": []
    },
    {
      "cell_type": "code",
      "source": [
        "def make_tea():\n",
        "  print(\"Step 1: Boil Water\")\n",
        "  print(\"Step 2: Add Milk\")\n",
        "  print(\"Step 3: Add patti\")\n",
        "  print(\"Step 4: Serve tea\")\n",
        "  return \"☕\"\n",
        "\n",
        "#        None\n",
        "tea2 = make_tea() # ☕\n",
        "\n",
        "#         ☕  for phuppo\n",
        "print(f\"{tea2} for Kahala\")\n",
        "\n"
      ],
      "metadata": {
        "colab": {
          "base_uri": "https://localhost:8080/"
        },
        "id": "uCsx9striFXH",
        "outputId": "99c8e593-f97d-4678-e35f-c64e6e797347"
      },
      "execution_count": null,
      "outputs": [
        {
          "output_type": "stream",
          "name": "stdout",
          "text": [
            "Step 1: Boil Water\n",
            "Step 2: Add Milk\n",
            "Step 3: Add patti\n",
            "Step 4: Serve tea\n",
            "None for Kahala\n"
          ]
        }
      ]
    },
    {
      "cell_type": "code",
      "source": [
        "def call_llm(prompt, name):\n",
        "  print(f\"User: {prompt}\")\n",
        "  return \"AI: Hello, How can I assist you today? 😊\"\n",
        "\n",
        "#                            prompt\n",
        "response = call_llm(prompt=\"Hello, My name is hamzah\", name=\"hamzah\")\n",
        "\n",
        "print(response)"
      ],
      "metadata": {
        "colab": {
          "base_uri": "https://localhost:8080/"
        },
        "id": "X7JwxSBUo3p_",
        "outputId": "7dd6099c-3161-43dc-ffed-62dd464a8a3f"
      },
      "execution_count": null,
      "outputs": [
        {
          "output_type": "stream",
          "name": "stdout",
          "text": [
            "User: Hello, My name is hamzah\n",
            "AI: Hello, How can I assist you today? 😊\n"
          ]
        }
      ]
    },
    {
      "cell_type": "code",
      "source": [
        "import random\n",
        "\n",
        "def roll_dice(limit:int = 6) -> int:\n",
        "    return random.randint(1, limit)\n",
        "\n",
        "\n",
        "# print( roll_dice() ) # default is 6\n",
        "\n",
        "# print( roll_dice( 12 ) )\n",
        "\n",
        "print( roll_dice( 24 ) )\n"
      ],
      "metadata": {
        "colab": {
          "base_uri": "https://localhost:8080/"
        },
        "id": "aQo84gA9t_t8",
        "outputId": "80591bfe-13b3-4667-8691-b940dd21707a"
      },
      "execution_count": null,
      "outputs": [
        {
          "output_type": "stream",
          "name": "stdout",
          "text": [
            "18\n"
          ]
        }
      ]
    }
  ]
}