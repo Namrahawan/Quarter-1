{
  "nbformat": 4,
  "nbformat_minor": 0,
  "metadata": {
    "colab": {
      "provenance": []
    },
    "kernelspec": {
      "name": "python3",
      "display_name": "Python 3"
    },
    "language_info": {
      "name": "python"
    }
  },
  "cells": [
    {
      "cell_type": "code",
      "source": [
        "is_hungry = False\n",
        "burger_lover = True\n",
        "pizza_lover = True\n",
        "\n",
        "if (is_hungry and (burger_lover or pizza_lover) ):\n",
        "  print(\"Let's order the Food\")\n",
        "\n",
        "elif (is_hungry):\n",
        "  print(\"Let's go to sleep\")\n",
        "\n",
        "else:\n",
        "  print(\"Not Hungry\")\n"
      ],
      "metadata": {
        "colab": {
          "base_uri": "https://localhost:8080/"
        },
        "id": "wYRu0L1dS7YQ",
        "outputId": "5f00ca2c-f27d-4cbf-a75f-383b041035a1"
      },
      "execution_count": null,
      "outputs": [
        {
          "output_type": "stream",
          "name": "stdout",
          "text": [
            "Let's order the Food\n"
          ]
        }
      ]
    },
    {
      "cell_type": "markdown",
      "source": [],
      "metadata": {
        "id": "oRK9292zpR7f"
      }
    },
    {
      "cell_type": "markdown",
      "source": [
        "# Why Lists Are Important?"
      ],
      "metadata": {
        "id": "nv3nrU-SPnJD"
      }
    },
    {
      "cell_type": "code",
      "execution_count": null,
      "metadata": {
        "id": "QyM0psvhKu_3",
        "colab": {
          "base_uri": "https://localhost:8080/"
        },
        "outputId": "cd3ec310-a22b-42d1-d1fc-73c697348852"
      },
      "outputs": [
        {
          "output_type": "stream",
          "name": "stdout",
          "text": [
            "['Cake', 'Eggs', 'Juice', 'Chips', 'Bread']\n",
            "['Teach a class', 'Finish project', 'Dinner', 'Sleep']\n"
          ]
        }
      ],
      "source": [
        "# Shopping List\n",
        "item_1 : str = \"Cake\"\n",
        "item_2 : str = \"Eggs\"\n",
        "item_3 : str = \"Juice\"\n",
        "item_4 : str = \"Chips\"\n",
        "item_5 : str = \"Bread\"\n",
        "# print(item_1, item_2)\n",
        "\n",
        "shopping_items : list[str] = [\"Cake\", \"Eggs\", \"Juice\", \"Chips\", \"Bread\"]\n",
        "print(shopping_items)\n",
        "\n",
        "# List example 2\n",
        "tasks : list [str] = [\"Teach a class\", \"Finish project\", \"Dinner\", \"Sleep\"]\n",
        "print(tasks)"
      ]
    },
    {
      "cell_type": "markdown",
      "source": [
        "# List Indexes\n"
      ],
      "metadata": {
        "id": "zsWPnoz_jz0x"
      }
    },
    {
      "cell_type": "code",
      "source": [
        "# Shopping List\n",
        "shopping_items : list[str] = [\"Cake\", \"Eggs\", \"Juice\", \"Chips\", \"Bread\"]\n",
        "#                             [ 0   ,  1    ,  2     ,    3   ,   4]\n",
        "\n",
        "print(shopping_items[2])\n",
        "print(shopping_items[3])"
      ],
      "metadata": {
        "colab": {
          "base_uri": "https://localhost:8080/"
        },
        "id": "dm3ApwjEjxXl",
        "outputId": "ba2905de-da84-4f6d-e1a1-d357e4dfbd6d"
      },
      "execution_count": null,
      "outputs": [
        {
          "output_type": "stream",
          "name": "stdout",
          "text": [
            "Juice\n",
            "Chips\n"
          ]
        }
      ]
    },
    {
      "cell_type": "markdown",
      "source": [
        "# List Length"
      ],
      "metadata": {
        "id": "qTianUkrlTWO"
      }
    },
    {
      "cell_type": "code",
      "source": [
        "# Shopping List\n",
        "shopping_items : list[str] = [\"Cake\", \"Eggs\", \"Juice\", \"Chips\"]\n",
        "\n",
        "\n",
        "# Find the length of the list\n",
        "print(len(shopping_items))"
      ],
      "metadata": {
        "colab": {
          "base_uri": "https://localhost:8080/"
        },
        "id": "k-oI5VGnlTo4",
        "outputId": "86e9b710-ab07-4b3f-ff1d-10ed637e1542"
      },
      "execution_count": null,
      "outputs": [
        {
          "output_type": "stream",
          "name": "stdout",
          "text": [
            "4\n"
          ]
        }
      ]
    },
    {
      "cell_type": "markdown",
      "source": [
        "# List Slicing\n"
      ],
      "metadata": {
        "id": "xg-NzziTmHSo"
      }
    },
    {
      "cell_type": "code",
      "source": [
        "# Shopping List\n",
        "shopping_items : list[str] = [\"Cake\", \"Eggs\", \"Juice\", \"Chips\", \"Bread\", \"Oil\"]\n",
        "\n",
        "# Slice the oil from the list\n",
        "print(shopping_items[0:5])"
      ],
      "metadata": {
        "colab": {
          "base_uri": "https://localhost:8080/"
        },
        "id": "Zi8itDj6mHmi",
        "outputId": "ff2e85e8-2071-4b63-dde5-72ca67a59e38"
      },
      "execution_count": null,
      "outputs": [
        {
          "output_type": "stream",
          "name": "stdout",
          "text": [
            "['Cake', 'Eggs', 'Juice', 'Chips', 'Bread']\n"
          ]
        }
      ]
    },
    {
      "cell_type": "markdown",
      "source": [
        "# Checking Membership"
      ],
      "metadata": {
        "id": "GVxKXVWGoFCb"
      }
    },
    {
      "cell_type": "code",
      "source": [
        "# Shopping List\n",
        "shopping_items : list[str] = [\"Cake\", \"Eggs\", \"Juice\", \"Chips\", \"Bread\"]\n",
        "\n",
        "print(\"Flour\" in shopping_items) # Output False\n",
        "print(\"Cake\" in shopping_items) # Output True"
      ],
      "metadata": {
        "colab": {
          "base_uri": "https://localhost:8080/"
        },
        "id": "y3k4mbNzoFXH",
        "outputId": "2939e32a-35fd-4441-cedf-43d0d71096d2"
      },
      "execution_count": null,
      "outputs": [
        {
          "output_type": "stream",
          "name": "stdout",
          "text": [
            "False\n",
            "True\n"
          ]
        }
      ]
    },
    {
      "cell_type": "markdown",
      "source": [
        "# Adding or removing items from the list"
      ],
      "metadata": {
        "id": "jDKfIyj2pUG_"
      }
    },
    {
      "cell_type": "code",
      "source": [
        "# Shopping List\n",
        "shopping_items : list[str] = [\"Cake\", \"Eggs\", \"Juice\", \"Chips\", \"Bread\"]\n",
        "print(shopping_items)\n",
        "\n",
        "# Append item in list\n",
        "shopping_items.append(\"Flour\")\n",
        "print(shopping_items)\n",
        "\n",
        "# Remove item in list\n",
        "shopping_items.remove(\"Flour\")\n",
        "print(shopping_items)"
      ],
      "metadata": {
        "id": "TH6t1QG3pUd2"
      },
      "execution_count": null,
      "outputs": []
    },
    {
      "cell_type": "markdown",
      "source": [
        "# Inserting and popping from list"
      ],
      "metadata": {
        "id": "ZRLgFi_rrhHI"
      }
    },
    {
      "cell_type": "code",
      "source": [
        "# Shopping List\n",
        "shopping_items : list[str] = [\"Cake\", \"Eggs\", \"Juice\", \"Chips\", \"Bread\"]\n",
        "#                             [0    ,    1  ,   2    ,   3    ,     4  ]\n",
        "\n",
        "# Inserting item in list\n",
        "shopping_items.insert(2, \"Flour\")\n",
        "print(\"After inserting and before popping\", shopping_items)\n",
        "\n",
        "# Popping items out of list\n",
        "shopping_items.pop(4)\n",
        "print(\"After popping\",shopping_items)"
      ],
      "metadata": {
        "colab": {
          "base_uri": "https://localhost:8080/"
        },
        "id": "-Ph5vwkErnhd",
        "outputId": "d8f85cd9-c509-4cb8-8d76-76af496a229f"
      },
      "execution_count": null,
      "outputs": [
        {
          "output_type": "stream",
          "name": "stdout",
          "text": [
            "After inserting and before popping ['Cake', 'Eggs', 'Flour', 'Juice', 'Chips', 'Bread']\n",
            "After popping ['Cake', 'Eggs', 'Flour', 'Juice', 'Bread']\n"
          ]
        }
      ]
    }
  ]
}